{
 "metadata": {
  "language_info": {
   "codemirror_mode": {
    "name": "ipython",
    "version": 3
   },
   "file_extension": ".py",
   "mimetype": "text/x-python",
   "name": "python",
   "nbconvert_exporter": "python",
   "pygments_lexer": "ipython3",
   "version": "3.8.5-final"
  },
  "orig_nbformat": 2,
  "kernelspec": {
   "name": "python3",
   "display_name": "Python 3",
   "language": "python"
  }
 },
 "nbformat": 4,
 "nbformat_minor": 2,
 "cells": [
  {
   "cell_type": "code",
   "execution_count": 2,
   "metadata": {},
   "outputs": [],
   "source": [
    "import numpy as np\n",
    "import pandas as pd\n",
    "import seaborn as sns\n",
    "import matplotlib.pyplot as plt\n",
    "\n",
    "from sklearn import metrics\n",
    "from sklearn.model_selection import train_test_split\n",
    "from sklearn.model_selection import cross_val_score\n",
    "\n",
    "# Importing Feature Selection Modesl\n",
    "from sklearn.feature_selection import SelectKBest\n",
    "from sklearn.feature_selection import RFE\n",
    "from sklearn.model_selection import StratifiedKFold\n",
    "from sklearn.feature_selection import RFECV\n",
    "from sklearn.feature_selection import chi2\n",
    "from sklearn.ensemble import ExtraTreesClassifier\n",
    "from sklearn.feature_selection import SelectFromModel\n",
    "\n",
    "# Importing Learning Models\n",
    "from sklearn.linear_model import LogisticRegression\n",
    "from sklearn.neighbors import KNeighborsClassifier\n",
    "from sklearn.tree import DecisionTreeClassifier\n",
    "from sklearn.naive_bayes import GaussianNB\n",
    "from sklearn.discriminant_analysis import LinearDiscriminantAnalysis"
   ]
  },
  {
   "cell_type": "code",
   "execution_count": 3,
   "metadata": {},
   "outputs": [
    {
     "output_type": "execute_result",
     "data": {
      "text/plain": [
       "(18918, 65)"
      ]
     },
     "metadata": {},
     "execution_count": 3
    }
   ],
   "source": [
    "polish_3_year = pd.read_csv(\"3year.csv\")\n",
    "polish_3_year.shape"
   ]
  },
  {
   "cell_type": "code",
   "execution_count": 6,
   "metadata": {},
   "outputs": [
    {
     "output_type": "execute_result",
     "data": {
      "text/plain": [
       "      Attr                                               Name\n",
       "0    Attr1                          net profit / total assets\n",
       "1    Attr2                   total liabilities / total assets\n",
       "2    Attr3                     working capital / total assets\n",
       "3    Attr4            current assets / short-term liabilities\n",
       "4    Attr5  [(cash + short-term securities + receivables -...\n",
       "..     ...                                                ...\n",
       "59  Attr60                                  sales / inventory\n",
       "60  Attr61                                sales / receivables\n",
       "61  Attr62              (short-term liabilities *365) / sales\n",
       "62  Attr63                     sales / short-term liabilities\n",
       "63  Attr64                               sales / fixed assets\n",
       "\n",
       "[64 rows x 2 columns]"
      ],
      "text/html": "<div>\n<style scoped>\n    .dataframe tbody tr th:only-of-type {\n        vertical-align: middle;\n    }\n\n    .dataframe tbody tr th {\n        vertical-align: top;\n    }\n\n    .dataframe thead th {\n        text-align: right;\n    }\n</style>\n<table border=\"1\" class=\"dataframe\">\n  <thead>\n    <tr style=\"text-align: right;\">\n      <th></th>\n      <th>Attr</th>\n      <th>Name</th>\n    </tr>\n  </thead>\n  <tbody>\n    <tr>\n      <th>0</th>\n      <td>Attr1</td>\n      <td>net profit / total assets</td>\n    </tr>\n    <tr>\n      <th>1</th>\n      <td>Attr2</td>\n      <td>total liabilities / total assets</td>\n    </tr>\n    <tr>\n      <th>2</th>\n      <td>Attr3</td>\n      <td>working capital / total assets</td>\n    </tr>\n    <tr>\n      <th>3</th>\n      <td>Attr4</td>\n      <td>current assets / short-term liabilities</td>\n    </tr>\n    <tr>\n      <th>4</th>\n      <td>Attr5</td>\n      <td>[(cash + short-term securities + receivables -...</td>\n    </tr>\n    <tr>\n      <th>...</th>\n      <td>...</td>\n      <td>...</td>\n    </tr>\n    <tr>\n      <th>59</th>\n      <td>Attr60</td>\n      <td>sales / inventory</td>\n    </tr>\n    <tr>\n      <th>60</th>\n      <td>Attr61</td>\n      <td>sales / receivables</td>\n    </tr>\n    <tr>\n      <th>61</th>\n      <td>Attr62</td>\n      <td>(short-term liabilities *365) / sales</td>\n    </tr>\n    <tr>\n      <th>62</th>\n      <td>Attr63</td>\n      <td>sales / short-term liabilities</td>\n    </tr>\n    <tr>\n      <th>63</th>\n      <td>Attr64</td>\n      <td>sales / fixed assets</td>\n    </tr>\n  </tbody>\n</table>\n<p>64 rows × 2 columns</p>\n</div>"
     },
     "metadata": {},
     "execution_count": 6
    }
   ],
   "source": [
    "polish_attr = pd.read_csv(\"attr_name.csv\")\n",
    "polish_attr"
   ]
  },
  {
   "cell_type": "code",
   "execution_count": 4,
   "metadata": {},
   "outputs": [
    {
     "output_type": "execute_result",
     "data": {
      "text/plain": [
       "0"
      ]
     },
     "metadata": {},
     "execution_count": 4
    }
   ],
   "source": [
    "sum(polish_3_year.isnull().sum())"
   ]
  },
  {
   "cell_type": "code",
   "execution_count": 5,
   "metadata": {},
   "outputs": [
    {
     "output_type": "execute_result",
     "data": {
      "text/plain": [
       "              Attr1         Attr2         Attr3         Attr4         Attr5\n",
       "count  18918.000000  18918.000000  18918.000000  18918.000000  1.891800e+04\n",
       "mean       0.002468      0.857092     -0.144444      6.964396 -7.941194e+02\n",
       "std        0.654671      7.853444      8.418831    390.442807  8.825053e+04\n",
       "min      -17.692000      0.000000   -479.730000      0.000000 -1.190300e+07\n",
       "25%       -0.042743      0.390123     -0.082573      0.892630 -9.074700e+01\n",
       "50%        0.017171      0.637245      0.093448      1.244445 -3.523000e+01\n",
       "75%        0.087773      0.831361      0.295658      2.155984  2.076275e+01\n",
       "max       52.652000    480.730000     17.708000  53433.000000  6.854400e+05"
      ],
      "text/html": "<div>\n<style scoped>\n    .dataframe tbody tr th:only-of-type {\n        vertical-align: middle;\n    }\n\n    .dataframe tbody tr th {\n        vertical-align: top;\n    }\n\n    .dataframe thead th {\n        text-align: right;\n    }\n</style>\n<table border=\"1\" class=\"dataframe\">\n  <thead>\n    <tr style=\"text-align: right;\">\n      <th></th>\n      <th>Attr1</th>\n      <th>Attr2</th>\n      <th>Attr3</th>\n      <th>Attr4</th>\n      <th>Attr5</th>\n    </tr>\n  </thead>\n  <tbody>\n    <tr>\n      <th>count</th>\n      <td>18918.000000</td>\n      <td>18918.000000</td>\n      <td>18918.000000</td>\n      <td>18918.000000</td>\n      <td>1.891800e+04</td>\n    </tr>\n    <tr>\n      <th>mean</th>\n      <td>0.002468</td>\n      <td>0.857092</td>\n      <td>-0.144444</td>\n      <td>6.964396</td>\n      <td>-7.941194e+02</td>\n    </tr>\n    <tr>\n      <th>std</th>\n      <td>0.654671</td>\n      <td>7.853444</td>\n      <td>8.418831</td>\n      <td>390.442807</td>\n      <td>8.825053e+04</td>\n    </tr>\n    <tr>\n      <th>min</th>\n      <td>-17.692000</td>\n      <td>0.000000</td>\n      <td>-479.730000</td>\n      <td>0.000000</td>\n      <td>-1.190300e+07</td>\n    </tr>\n    <tr>\n      <th>25%</th>\n      <td>-0.042743</td>\n      <td>0.390123</td>\n      <td>-0.082573</td>\n      <td>0.892630</td>\n      <td>-9.074700e+01</td>\n    </tr>\n    <tr>\n      <th>50%</th>\n      <td>0.017171</td>\n      <td>0.637245</td>\n      <td>0.093448</td>\n      <td>1.244445</td>\n      <td>-3.523000e+01</td>\n    </tr>\n    <tr>\n      <th>75%</th>\n      <td>0.087773</td>\n      <td>0.831361</td>\n      <td>0.295658</td>\n      <td>2.155984</td>\n      <td>2.076275e+01</td>\n    </tr>\n    <tr>\n      <th>max</th>\n      <td>52.652000</td>\n      <td>480.730000</td>\n      <td>17.708000</td>\n      <td>53433.000000</td>\n      <td>6.854400e+05</td>\n    </tr>\n  </tbody>\n</table>\n</div>"
     },
     "metadata": {},
     "execution_count": 5
    }
   ],
   "source": [
    "cols = polish_3_year.columns\n",
    "polish_3_year[cols[0:5]].describe()"
   ]
  },
  {
   "cell_type": "code",
   "execution_count": 38,
   "metadata": {},
   "outputs": [
    {
     "output_type": "execute_result",
     "data": {
      "text/plain": [
       "(948, 65)"
      ]
     },
     "metadata": {},
     "execution_count": 38
    }
   ],
   "source": [
    "Q1 = polish_3_year.quantile(0.25)\n",
    "Q3 = polish_3_year.quantile(0.75)\n",
    "IQR = Q3 - Q1\n",
    "\n",
    "polish_IQR = polish_3_year[~((polish_3_year < (Q1 - 1.5 * IQR)) |(polish_3_year > (Q3 + 1.5 * IQR))).any(axis=1)]\n",
    "polish_IQR.shape"
   ]
  },
  {
   "cell_type": "code",
   "execution_count": 7,
   "metadata": {},
   "outputs": [
    {
     "output_type": "execute_result",
     "data": {
      "text/plain": [
       "(17446, 65)"
      ]
     },
     "metadata": {},
     "execution_count": 7
    }
   ],
   "source": [
    "from scipy import stats\n",
    "import numpy as np\n",
    "z = np.abs(stats.zscore(polish_3_year))\n",
    "\n",
    "polish_zo = polish_3_year[(z < 3).all(axis=1)]\n",
    "polish_zo.shape"
   ]
  },
  {
   "cell_type": "code",
   "execution_count": 8,
   "metadata": {},
   "outputs": [
    {
     "output_type": "execute_result",
     "data": {
      "text/plain": [
       "(5144, 65)"
      ]
     },
     "metadata": {},
     "execution_count": 8
    }
   ],
   "source": [
    "polish_zo = polish_3_year[(polish_3_year < 1000).all(axis=1)]\n",
    "polish_zo.shape"
   ]
  },
  {
   "cell_type": "code",
   "execution_count": 11,
   "metadata": {},
   "outputs": [
    {
     "output_type": "execute_result",
     "data": {
      "text/plain": [
       "2899"
      ]
     },
     "metadata": {},
     "execution_count": 11
    }
   ],
   "source": [
    "polish_zo[\"class\"].agg(\"sum\")"
   ]
  },
  {
   "cell_type": "code",
   "execution_count": null,
   "metadata": {},
   "outputs": [],
   "source": []
  }
 ]
}