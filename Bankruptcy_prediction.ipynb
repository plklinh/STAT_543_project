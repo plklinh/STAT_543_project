{
 "metadata": {
  "language_info": {
   "codemirror_mode": {
    "name": "ipython",
    "version": 3
   },
   "file_extension": ".py",
   "mimetype": "text/x-python",
   "name": "python",
   "nbconvert_exporter": "python",
   "pygments_lexer": "ipython3",
   "version": "3.7.4-final"
  },
  "orig_nbformat": 2,
  "kernelspec": {
   "name": "python3",
   "display_name": "Python 3.7.4 64-bit ('base': conda)",
   "metadata": {
    "interpreter": {
     "hash": "7c05304a6cc44c15f6e34d90b133ecd9e1f5d64571cb7dc5e4d075e9eba84ceb"
    }
   }
  }
 },
 "nbformat": 4,
 "nbformat_minor": 2,
 "cells": [
  {
   "cell_type": "code",
   "execution_count": 32,
   "metadata": {},
   "outputs": [],
   "source": [
    "import numpy as np\n",
    "import pandas as pd\n",
    "import matplotlib.pyplot as plt\n",
    "\n",
    "from sklearn import metrics\n",
    "from sklearn.model_selection import cross_val_score\n",
    "\n",
    "# Importing Feature Selection Modesl\n",
    "from sklearn.feature_selection import SelectKBest\n",
    "from sklearn.feature_selection import RFE\n",
    "from sklearn.model_selection import StratifiedKFold\n",
    "from sklearn.feature_selection import RFECV\n",
    "from sklearn.feature_selection import chi2\n",
    "from sklearn.ensemble import ExtraTreesClassifier\n",
    "from sklearn.feature_selection import SelectFromModel\n",
    "\n",
    "# Importing Learning Models\n",
    "from sklearn.neighbors import KNeighborsClassifier\n",
    "from sklearn.tree import DecisionTreeClassifier\n",
    "from sklearn.naive_bayes import GaussianNB\n",
    "from sklearn.discriminant_analysis import LinearDiscriminantAnalysis\n"
   ]
  },
  {
   "cell_type": "code",
   "execution_count": 2,
   "metadata": {},
   "outputs": [
    {
     "output_type": "execute_result",
     "data": {
      "text/plain": [
       "   Bankrupt?   ROA(C) before interest and depreciation before interest  \\\n",
       "0          1                                           0.370594          \n",
       "1          1                                           0.464291          \n",
       "2          1                                           0.426071          \n",
       "3          1                                           0.399844          \n",
       "4          1                                           0.465022          \n",
       "\n",
       "    ROA(A) before interest and % after tax  \\\n",
       "0                                 0.424389   \n",
       "1                                 0.538214   \n",
       "2                                 0.499019   \n",
       "3                                 0.451265   \n",
       "4                                 0.538432   \n",
       "\n",
       "    ROA(B) before interest and depreciation after tax  \\\n",
       "0                                           0.405750    \n",
       "1                                           0.516730    \n",
       "2                                           0.472295    \n",
       "3                                           0.457733    \n",
       "4                                           0.522298    \n",
       "\n",
       "    Operating Gross Margin   Realized Sales Gross Margin  \\\n",
       "0                 0.601457                      0.601457   \n",
       "1                 0.610235                      0.610235   \n",
       "2                 0.601450                      0.601364   \n",
       "3                 0.583541                      0.583541   \n",
       "4                 0.598783                      0.598783   \n",
       "\n",
       "    Operating Profit Rate   Pre-tax net Interest Rate  \\\n",
       "0                0.998969                    0.796887   \n",
       "1                0.998946                    0.797380   \n",
       "2                0.998857                    0.796403   \n",
       "3                0.998700                    0.796967   \n",
       "4                0.998973                    0.797366   \n",
       "\n",
       "    After-tax net Interest Rate   Non-industry income and expenditure/revenue  \\\n",
       "0                      0.808809                                      0.302646   \n",
       "1                      0.809301                                      0.303556   \n",
       "2                      0.808388                                      0.302035   \n",
       "3                      0.808966                                      0.303350   \n",
       "4                      0.809304                                      0.303475   \n",
       "\n",
       "   ...   Net Income to Total Assets   Total assets to GNP price  \\\n",
       "0  ...                     0.716845                    0.009219   \n",
       "1  ...                     0.795297                    0.008323   \n",
       "2  ...                     0.774670                    0.040003   \n",
       "3  ...                     0.739555                    0.003252   \n",
       "4  ...                     0.795016                    0.003878   \n",
       "\n",
       "    No-credit Interval   Gross Profit to Sales  \\\n",
       "0             0.622879                0.601453   \n",
       "1             0.623652                0.610237   \n",
       "2             0.623841                0.601449   \n",
       "3             0.622929                0.583538   \n",
       "4             0.623521                0.598782   \n",
       "\n",
       "    Net Income to Stockholder's Equity   Liability to Equity  \\\n",
       "0                             0.827890              0.290202   \n",
       "1                             0.839969              0.283846   \n",
       "2                             0.836774              0.290189   \n",
       "3                             0.834697              0.281721   \n",
       "4                             0.839973              0.278514   \n",
       "\n",
       "    Degree of Financial Leverage (DFL)  \\\n",
       "0                             0.026601   \n",
       "1                             0.264577   \n",
       "2                             0.026555   \n",
       "3                             0.026697   \n",
       "4                             0.024752   \n",
       "\n",
       "    Interest Coverage Ratio (Interest expense to EBIT)   Net Income Flag  \\\n",
       "0                                           0.564050                   1   \n",
       "1                                           0.570175                   1   \n",
       "2                                           0.563706                   1   \n",
       "3                                           0.564663                   1   \n",
       "4                                           0.575617                   1   \n",
       "\n",
       "    Equity to Liability  \n",
       "0              0.016469  \n",
       "1              0.020794  \n",
       "2              0.016474  \n",
       "3              0.023982  \n",
       "4              0.035490  \n",
       "\n",
       "[5 rows x 96 columns]"
      ],
      "text/html": "<div>\n<style scoped>\n    .dataframe tbody tr th:only-of-type {\n        vertical-align: middle;\n    }\n\n    .dataframe tbody tr th {\n        vertical-align: top;\n    }\n\n    .dataframe thead th {\n        text-align: right;\n    }\n</style>\n<table border=\"1\" class=\"dataframe\">\n  <thead>\n    <tr style=\"text-align: right;\">\n      <th></th>\n      <th>Bankrupt?</th>\n      <th>ROA(C) before interest and depreciation before interest</th>\n      <th>ROA(A) before interest and % after tax</th>\n      <th>ROA(B) before interest and depreciation after tax</th>\n      <th>Operating Gross Margin</th>\n      <th>Realized Sales Gross Margin</th>\n      <th>Operating Profit Rate</th>\n      <th>Pre-tax net Interest Rate</th>\n      <th>After-tax net Interest Rate</th>\n      <th>Non-industry income and expenditure/revenue</th>\n      <th>...</th>\n      <th>Net Income to Total Assets</th>\n      <th>Total assets to GNP price</th>\n      <th>No-credit Interval</th>\n      <th>Gross Profit to Sales</th>\n      <th>Net Income to Stockholder's Equity</th>\n      <th>Liability to Equity</th>\n      <th>Degree of Financial Leverage (DFL)</th>\n      <th>Interest Coverage Ratio (Interest expense to EBIT)</th>\n      <th>Net Income Flag</th>\n      <th>Equity to Liability</th>\n    </tr>\n  </thead>\n  <tbody>\n    <tr>\n      <td>0</td>\n      <td>1</td>\n      <td>0.370594</td>\n      <td>0.424389</td>\n      <td>0.405750</td>\n      <td>0.601457</td>\n      <td>0.601457</td>\n      <td>0.998969</td>\n      <td>0.796887</td>\n      <td>0.808809</td>\n      <td>0.302646</td>\n      <td>...</td>\n      <td>0.716845</td>\n      <td>0.009219</td>\n      <td>0.622879</td>\n      <td>0.601453</td>\n      <td>0.827890</td>\n      <td>0.290202</td>\n      <td>0.026601</td>\n      <td>0.564050</td>\n      <td>1</td>\n      <td>0.016469</td>\n    </tr>\n    <tr>\n      <td>1</td>\n      <td>1</td>\n      <td>0.464291</td>\n      <td>0.538214</td>\n      <td>0.516730</td>\n      <td>0.610235</td>\n      <td>0.610235</td>\n      <td>0.998946</td>\n      <td>0.797380</td>\n      <td>0.809301</td>\n      <td>0.303556</td>\n      <td>...</td>\n      <td>0.795297</td>\n      <td>0.008323</td>\n      <td>0.623652</td>\n      <td>0.610237</td>\n      <td>0.839969</td>\n      <td>0.283846</td>\n      <td>0.264577</td>\n      <td>0.570175</td>\n      <td>1</td>\n      <td>0.020794</td>\n    </tr>\n    <tr>\n      <td>2</td>\n      <td>1</td>\n      <td>0.426071</td>\n      <td>0.499019</td>\n      <td>0.472295</td>\n      <td>0.601450</td>\n      <td>0.601364</td>\n      <td>0.998857</td>\n      <td>0.796403</td>\n      <td>0.808388</td>\n      <td>0.302035</td>\n      <td>...</td>\n      <td>0.774670</td>\n      <td>0.040003</td>\n      <td>0.623841</td>\n      <td>0.601449</td>\n      <td>0.836774</td>\n      <td>0.290189</td>\n      <td>0.026555</td>\n      <td>0.563706</td>\n      <td>1</td>\n      <td>0.016474</td>\n    </tr>\n    <tr>\n      <td>3</td>\n      <td>1</td>\n      <td>0.399844</td>\n      <td>0.451265</td>\n      <td>0.457733</td>\n      <td>0.583541</td>\n      <td>0.583541</td>\n      <td>0.998700</td>\n      <td>0.796967</td>\n      <td>0.808966</td>\n      <td>0.303350</td>\n      <td>...</td>\n      <td>0.739555</td>\n      <td>0.003252</td>\n      <td>0.622929</td>\n      <td>0.583538</td>\n      <td>0.834697</td>\n      <td>0.281721</td>\n      <td>0.026697</td>\n      <td>0.564663</td>\n      <td>1</td>\n      <td>0.023982</td>\n    </tr>\n    <tr>\n      <td>4</td>\n      <td>1</td>\n      <td>0.465022</td>\n      <td>0.538432</td>\n      <td>0.522298</td>\n      <td>0.598783</td>\n      <td>0.598783</td>\n      <td>0.998973</td>\n      <td>0.797366</td>\n      <td>0.809304</td>\n      <td>0.303475</td>\n      <td>...</td>\n      <td>0.795016</td>\n      <td>0.003878</td>\n      <td>0.623521</td>\n      <td>0.598782</td>\n      <td>0.839973</td>\n      <td>0.278514</td>\n      <td>0.024752</td>\n      <td>0.575617</td>\n      <td>1</td>\n      <td>0.035490</td>\n    </tr>\n  </tbody>\n</table>\n<p>5 rows × 96 columns</p>\n</div>"
     },
     "metadata": {},
     "execution_count": 2
    }
   ],
   "source": [
    "taiwan_bankruptcy = pd.read_csv(\"data.csv\")\n",
    "\n",
    "taiwan_bankruptcy.head()"
   ]
  },
  {
   "cell_type": "code",
   "execution_count": 3,
   "metadata": {},
   "outputs": [],
   "source": [
    "y = taiwan_bankruptcy[\"Bankrupt?\"]\n",
    "X = taiwan_bankruptcy.drop(columns = [\"Bankrupt?\"])"
   ]
  },
  {
   "cell_type": "code",
   "execution_count": 7,
   "metadata": {},
   "outputs": [
    {
     "output_type": "execute_result",
     "data": {
      "text/plain": [
       "         Bankrupt?   ROA(C) before interest and depreciation before interest  \\\n",
       "count  6819.000000                                        6819.000000          \n",
       "mean      0.032263                                           0.505180          \n",
       "std       0.176710                                           0.060686          \n",
       "min       0.000000                                           0.000000          \n",
       "25%       0.000000                                           0.476527          \n",
       "50%       0.000000                                           0.502706          \n",
       "75%       0.000000                                           0.535563          \n",
       "max       1.000000                                           1.000000          \n",
       "\n",
       "        ROA(A) before interest and % after tax  \\\n",
       "count                              6819.000000   \n",
       "mean                                  0.558625   \n",
       "std                                   0.065620   \n",
       "min                                   0.000000   \n",
       "25%                                   0.535543   \n",
       "50%                                   0.559802   \n",
       "75%                                   0.589157   \n",
       "max                                   1.000000   \n",
       "\n",
       "        ROA(B) before interest and depreciation after tax  \\\n",
       "count                                        6819.000000    \n",
       "mean                                            0.553589    \n",
       "std                                             0.061595    \n",
       "min                                             0.000000    \n",
       "25%                                             0.527277    \n",
       "50%                                             0.552278    \n",
       "75%                                             0.584105    \n",
       "max                                             1.000000    \n",
       "\n",
       "        Operating Gross Margin   Realized Sales Gross Margin  \\\n",
       "count              6819.000000                   6819.000000   \n",
       "mean                  0.607948                      0.607929   \n",
       "std                   0.016934                      0.016916   \n",
       "min                   0.000000                      0.000000   \n",
       "25%                   0.600445                      0.600434   \n",
       "50%                   0.605997                      0.605976   \n",
       "75%                   0.613914                      0.613842   \n",
       "max                   1.000000                      1.000000   \n",
       "\n",
       "        Operating Profit Rate   Pre-tax net Interest Rate  \\\n",
       "count             6819.000000                 6819.000000   \n",
       "mean                 0.998755                    0.797190   \n",
       "std                  0.013010                    0.012869   \n",
       "min                  0.000000                    0.000000   \n",
       "25%                  0.998969                    0.797386   \n",
       "50%                  0.999022                    0.797464   \n",
       "75%                  0.999095                    0.797579   \n",
       "max                  1.000000                    1.000000   \n",
       "\n",
       "        After-tax net Interest Rate  \\\n",
       "count                   6819.000000   \n",
       "mean                       0.809084   \n",
       "std                        0.013601   \n",
       "min                        0.000000   \n",
       "25%                        0.809312   \n",
       "50%                        0.809375   \n",
       "75%                        0.809469   \n",
       "max                        1.000000   \n",
       "\n",
       "        Non-industry income and expenditure/revenue  ...  \\\n",
       "count                                   6819.000000  ...   \n",
       "mean                                       0.303623  ...   \n",
       "std                                        0.011163  ...   \n",
       "min                                        0.000000  ...   \n",
       "25%                                        0.303466  ...   \n",
       "50%                                        0.303525  ...   \n",
       "75%                                        0.303585  ...   \n",
       "max                                        1.000000  ...   \n",
       "\n",
       "        Net Income to Total Assets   Total assets to GNP price  \\\n",
       "count                  6819.000000                6.819000e+03   \n",
       "mean                      0.807760                1.862942e+07   \n",
       "std                       0.040332                3.764501e+08   \n",
       "min                       0.000000                0.000000e+00   \n",
       "25%                       0.796750                9.036205e-04   \n",
       "50%                       0.810619                2.085213e-03   \n",
       "75%                       0.826455                5.269777e-03   \n",
       "max                       1.000000                9.820000e+09   \n",
       "\n",
       "        No-credit Interval   Gross Profit to Sales  \\\n",
       "count          6819.000000             6819.000000   \n",
       "mean              0.623915                0.607946   \n",
       "std               0.012290                0.016934   \n",
       "min               0.000000                0.000000   \n",
       "25%               0.623636                0.600443   \n",
       "50%               0.623879                0.605998   \n",
       "75%               0.624168                0.613913   \n",
       "max               1.000000                1.000000   \n",
       "\n",
       "        Net Income to Stockholder's Equity   Liability to Equity  \\\n",
       "count                          6819.000000           6819.000000   \n",
       "mean                              0.840402              0.280365   \n",
       "std                               0.014523              0.014463   \n",
       "min                               0.000000              0.000000   \n",
       "25%                               0.840115              0.276944   \n",
       "50%                               0.841179              0.278778   \n",
       "75%                               0.842357              0.281449   \n",
       "max                               1.000000              1.000000   \n",
       "\n",
       "        Degree of Financial Leverage (DFL)  \\\n",
       "count                          6819.000000   \n",
       "mean                              0.027541   \n",
       "std                               0.015668   \n",
       "min                               0.000000   \n",
       "25%                               0.026791   \n",
       "50%                               0.026808   \n",
       "75%                               0.026913   \n",
       "max                               1.000000   \n",
       "\n",
       "        Interest Coverage Ratio (Interest expense to EBIT)   Net Income Flag  \\\n",
       "count                                        6819.000000              6819.0   \n",
       "mean                                            0.565358                 1.0   \n",
       "std                                             0.013214                 0.0   \n",
       "min                                             0.000000                 1.0   \n",
       "25%                                             0.565158                 1.0   \n",
       "50%                                             0.565252                 1.0   \n",
       "75%                                             0.565725                 1.0   \n",
       "max                                             1.000000                 1.0   \n",
       "\n",
       "        Equity to Liability  \n",
       "count           6819.000000  \n",
       "mean               0.047578  \n",
       "std                0.050014  \n",
       "min                0.000000  \n",
       "25%                0.024477  \n",
       "50%                0.033798  \n",
       "75%                0.052838  \n",
       "max                1.000000  \n",
       "\n",
       "[8 rows x 96 columns]"
      ],
      "text/html": "<div>\n<style scoped>\n    .dataframe tbody tr th:only-of-type {\n        vertical-align: middle;\n    }\n\n    .dataframe tbody tr th {\n        vertical-align: top;\n    }\n\n    .dataframe thead th {\n        text-align: right;\n    }\n</style>\n<table border=\"1\" class=\"dataframe\">\n  <thead>\n    <tr style=\"text-align: right;\">\n      <th></th>\n      <th>Bankrupt?</th>\n      <th>ROA(C) before interest and depreciation before interest</th>\n      <th>ROA(A) before interest and % after tax</th>\n      <th>ROA(B) before interest and depreciation after tax</th>\n      <th>Operating Gross Margin</th>\n      <th>Realized Sales Gross Margin</th>\n      <th>Operating Profit Rate</th>\n      <th>Pre-tax net Interest Rate</th>\n      <th>After-tax net Interest Rate</th>\n      <th>Non-industry income and expenditure/revenue</th>\n      <th>...</th>\n      <th>Net Income to Total Assets</th>\n      <th>Total assets to GNP price</th>\n      <th>No-credit Interval</th>\n      <th>Gross Profit to Sales</th>\n      <th>Net Income to Stockholder's Equity</th>\n      <th>Liability to Equity</th>\n      <th>Degree of Financial Leverage (DFL)</th>\n      <th>Interest Coverage Ratio (Interest expense to EBIT)</th>\n      <th>Net Income Flag</th>\n      <th>Equity to Liability</th>\n    </tr>\n  </thead>\n  <tbody>\n    <tr>\n      <td>count</td>\n      <td>6819.000000</td>\n      <td>6819.000000</td>\n      <td>6819.000000</td>\n      <td>6819.000000</td>\n      <td>6819.000000</td>\n      <td>6819.000000</td>\n      <td>6819.000000</td>\n      <td>6819.000000</td>\n      <td>6819.000000</td>\n      <td>6819.000000</td>\n      <td>...</td>\n      <td>6819.000000</td>\n      <td>6.819000e+03</td>\n      <td>6819.000000</td>\n      <td>6819.000000</td>\n      <td>6819.000000</td>\n      <td>6819.000000</td>\n      <td>6819.000000</td>\n      <td>6819.000000</td>\n      <td>6819.0</td>\n      <td>6819.000000</td>\n    </tr>\n    <tr>\n      <td>mean</td>\n      <td>0.032263</td>\n      <td>0.505180</td>\n      <td>0.558625</td>\n      <td>0.553589</td>\n      <td>0.607948</td>\n      <td>0.607929</td>\n      <td>0.998755</td>\n      <td>0.797190</td>\n      <td>0.809084</td>\n      <td>0.303623</td>\n      <td>...</td>\n      <td>0.807760</td>\n      <td>1.862942e+07</td>\n      <td>0.623915</td>\n      <td>0.607946</td>\n      <td>0.840402</td>\n      <td>0.280365</td>\n      <td>0.027541</td>\n      <td>0.565358</td>\n      <td>1.0</td>\n      <td>0.047578</td>\n    </tr>\n    <tr>\n      <td>std</td>\n      <td>0.176710</td>\n      <td>0.060686</td>\n      <td>0.065620</td>\n      <td>0.061595</td>\n      <td>0.016934</td>\n      <td>0.016916</td>\n      <td>0.013010</td>\n      <td>0.012869</td>\n      <td>0.013601</td>\n      <td>0.011163</td>\n      <td>...</td>\n      <td>0.040332</td>\n      <td>3.764501e+08</td>\n      <td>0.012290</td>\n      <td>0.016934</td>\n      <td>0.014523</td>\n      <td>0.014463</td>\n      <td>0.015668</td>\n      <td>0.013214</td>\n      <td>0.0</td>\n      <td>0.050014</td>\n    </tr>\n    <tr>\n      <td>min</td>\n      <td>0.000000</td>\n      <td>0.000000</td>\n      <td>0.000000</td>\n      <td>0.000000</td>\n      <td>0.000000</td>\n      <td>0.000000</td>\n      <td>0.000000</td>\n      <td>0.000000</td>\n      <td>0.000000</td>\n      <td>0.000000</td>\n      <td>...</td>\n      <td>0.000000</td>\n      <td>0.000000e+00</td>\n      <td>0.000000</td>\n      <td>0.000000</td>\n      <td>0.000000</td>\n      <td>0.000000</td>\n      <td>0.000000</td>\n      <td>0.000000</td>\n      <td>1.0</td>\n      <td>0.000000</td>\n    </tr>\n    <tr>\n      <td>25%</td>\n      <td>0.000000</td>\n      <td>0.476527</td>\n      <td>0.535543</td>\n      <td>0.527277</td>\n      <td>0.600445</td>\n      <td>0.600434</td>\n      <td>0.998969</td>\n      <td>0.797386</td>\n      <td>0.809312</td>\n      <td>0.303466</td>\n      <td>...</td>\n      <td>0.796750</td>\n      <td>9.036205e-04</td>\n      <td>0.623636</td>\n      <td>0.600443</td>\n      <td>0.840115</td>\n      <td>0.276944</td>\n      <td>0.026791</td>\n      <td>0.565158</td>\n      <td>1.0</td>\n      <td>0.024477</td>\n    </tr>\n    <tr>\n      <td>50%</td>\n      <td>0.000000</td>\n      <td>0.502706</td>\n      <td>0.559802</td>\n      <td>0.552278</td>\n      <td>0.605997</td>\n      <td>0.605976</td>\n      <td>0.999022</td>\n      <td>0.797464</td>\n      <td>0.809375</td>\n      <td>0.303525</td>\n      <td>...</td>\n      <td>0.810619</td>\n      <td>2.085213e-03</td>\n      <td>0.623879</td>\n      <td>0.605998</td>\n      <td>0.841179</td>\n      <td>0.278778</td>\n      <td>0.026808</td>\n      <td>0.565252</td>\n      <td>1.0</td>\n      <td>0.033798</td>\n    </tr>\n    <tr>\n      <td>75%</td>\n      <td>0.000000</td>\n      <td>0.535563</td>\n      <td>0.589157</td>\n      <td>0.584105</td>\n      <td>0.613914</td>\n      <td>0.613842</td>\n      <td>0.999095</td>\n      <td>0.797579</td>\n      <td>0.809469</td>\n      <td>0.303585</td>\n      <td>...</td>\n      <td>0.826455</td>\n      <td>5.269777e-03</td>\n      <td>0.624168</td>\n      <td>0.613913</td>\n      <td>0.842357</td>\n      <td>0.281449</td>\n      <td>0.026913</td>\n      <td>0.565725</td>\n      <td>1.0</td>\n      <td>0.052838</td>\n    </tr>\n    <tr>\n      <td>max</td>\n      <td>1.000000</td>\n      <td>1.000000</td>\n      <td>1.000000</td>\n      <td>1.000000</td>\n      <td>1.000000</td>\n      <td>1.000000</td>\n      <td>1.000000</td>\n      <td>1.000000</td>\n      <td>1.000000</td>\n      <td>1.000000</td>\n      <td>...</td>\n      <td>1.000000</td>\n      <td>9.820000e+09</td>\n      <td>1.000000</td>\n      <td>1.000000</td>\n      <td>1.000000</td>\n      <td>1.000000</td>\n      <td>1.000000</td>\n      <td>1.000000</td>\n      <td>1.0</td>\n      <td>1.000000</td>\n    </tr>\n  </tbody>\n</table>\n<p>8 rows × 96 columns</p>\n</div>"
     },
     "metadata": {},
     "execution_count": 7
    }
   ],
   "source": [
    "taiwan_bankruptcy.describe()"
   ]
  },
  {
   "cell_type": "code",
   "execution_count": 8,
   "metadata": {},
   "outputs": [
    {
     "output_type": "execute_result",
     "data": {
      "text/plain": [
       "Bankrupt?\n",
       "0    6599\n",
       "1     220\n",
       "dtype: int64"
      ]
     },
     "metadata": {},
     "execution_count": 8
    }
   ],
   "source": [
    "taiwan_bankruptcy.groupby('Bankrupt?').size()"
   ]
  },
  {
   "cell_type": "code",
   "execution_count": 4,
   "metadata": {},
   "outputs": [],
   "source": [
    "# Practice Train-Test Split\n",
    "\n",
    "from sklearn.model_selection import train_test_split\n",
    "\n",
    "random_state = 1\n",
    "test_size = 0.5\n",
    "\n",
    "X_train, X_test, y_train, y_test = train_test_split(X, y, test_size=test_size, random_state= random_state, stratify = y)"
   ]
  },
  {
   "cell_type": "code",
   "execution_count": 11,
   "metadata": {},
   "outputs": [],
   "source": [
    "# Practice  Logistic Regression\n",
    "\n",
    "from sklearn.linear_model import LogisticRegression\n",
    "\n",
    "random_state = 1\n",
    "\n",
    "logit = LogisticRegression(solver= \"saga\", random_state = random_state)\n",
    "logit_fit = logit.fit(X_train, y_train)"
   ]
  },
  {
   "cell_type": "code",
   "execution_count": 13,
   "metadata": {},
   "outputs": [
    {
     "output_type": "stream",
     "name": "stdout",
     "text": [
      "[-4.96943189e-17]\n[[-2.96712011e-17 -3.29953099e-17 -3.23374320e-17 -3.09226019e-17\n  -3.09160993e-17 -4.96397745e-17 -3.96422171e-17 -4.02325626e-17\n  -1.51191765e-17 -3.88527402e-17 -1.17938897e-10 -2.67757753e-10\n  -2.34375339e-17 -1.25246811e-09 -9.38999350e-18 -1.11596626e-17\n  -1.11604116e-17 -1.11568903e-17 -1.34972382e-17 -1.62645490e-17\n  -1.42804013e-10 -6.57248975e-18 -1.11184976e-17 -1.31671435e-18\n  -4.22163980e-17 -3.44433452e-17 -3.44431938e-17 -1.08096275e-17\n  -3.50016906e-10  5.96044411e-10 -1.32182190e-17 -1.92559781e-17\n  -7.09144482e-11  1.94004024e-11 -3.14060248e-17 -9.82868789e-11\n  -1.64294462e-18 -4.80513743e-17 -5.73528458e-19 -1.77238378e-17\n   2.15458073e-19 -6.55790667e-18 -1.08809593e-17 -1.97316433e-17\n  -9.16803956e-18 -5.17047445e-10 -6.63996454e-10 -1.96434484e-10\n   3.16684984e-12 -1.74090764e-18 -4.45227118e-11 -2.08730987e-17\n  -4.17923114e-10 -4.46452479e-17 -2.81824381e-17 -3.15024156e-17\n  -1.33494858e-17 -3.07082595e-10  2.88569458e-10 -1.51466994e-18\n  -1.79999073e-17 -1.37717283e-17 -1.10076474e-09 -3.87998676e-17\n  -3.73053013e-17 -1.57004725e-17  3.62703593e-11 -4.77077344e-17\n  -1.42852272e-19 -9.22652445e-19 -3.64255619e-11 -5.42621122e-11\n  -2.95298468e-17 -1.61508366e-10 -3.33762146e-17 -6.91254162e-18\n  -3.87998676e-17 -1.57004725e-17 -5.01240633e-18 -3.40241345e-17\n  -2.37819336e-17 -3.06875702e-17 -1.59794418e-17 -4.63411045e-20\n   7.74335769e-19 -4.33961042e-17 -2.44453872e-10 -3.11289042e-17\n  -3.09225164e-17 -4.25868167e-17 -1.31108750e-17 -1.26297610e-18\n  -2.80579530e-17 -4.96943189e-17 -4.30959586e-18]]\n"
     ]
    }
   ],
   "source": [
    "print(logit_fit.intercept_)\n",
    "print(logit_fit.coef_)"
   ]
  },
  {
   "cell_type": "code",
   "execution_count": 9,
   "metadata": {},
   "outputs": [
    {
     "output_type": "stream",
     "name": "stdout",
     "text": [
      "              precision    recall  f1-score   support\n\n           0       0.97      1.00      0.98      3299\n           1       0.18      0.02      0.03       110\n\n    accuracy                           0.97      3409\n   macro avg       0.58      0.51      0.51      3409\nweighted avg       0.94      0.97      0.95      3409\n\n[[3290    9]\n [ 108    2]]\n"
     ]
    }
   ],
   "source": [
    "y_train_pred = logit_fit.predict(X_train)\n",
    "\n",
    "print(metrics.classification_report(y_train, y_train_pred))\n",
    "print(metrics.confusion_matrix(y_train, y_train_pred))"
   ]
  },
  {
   "cell_type": "code",
   "execution_count": 6,
   "metadata": {},
   "outputs": [
    {
     "output_type": "stream",
     "name": "stdout",
     "text": [
      "              precision    recall  f1-score   support\n\n           0       0.97      1.00      0.98      3300\n           1       0.00      0.00      0.00       110\n\n    accuracy                           0.96      3410\n   macro avg       0.48      0.50      0.49      3410\nweighted avg       0.94      0.96      0.95      3410\n\n[[3288   12]\n [ 110    0]]\n"
     ]
    }
   ],
   "source": [
    "y_test_pred = logit_fit.predict(X_test)\n",
    "\n",
    "print(metrics.classification_report(y_test, y_test_pred))\n",
    "print(metrics.confusion_matrix(y_test, y_test_pred))"
   ]
  },
  {
   "cell_type": "code",
   "execution_count": 28,
   "metadata": {},
   "outputs": [],
   "source": [
    "# Practice Feature Selection \n",
    "\n",
    "\n",
    "k = 10\n",
    "estimator = logit\n",
    "\n",
    "# Supervised Methods\n",
    "\n",
    "#Univariate \n",
    "SKB_selector = SelectKBest(chi2, k=k).fit(X_train, y_train)\n",
    "\n",
    "# Model Based\n",
    "RFECV_selector = RFECV(logit, step=1, cv=5,min_features_to_select = k).fit(X_train, y_train)\n",
    "\n",
    "clf = ExtraTreesClassifier(n_estimators=50)\n",
    "clf.fit(X_train, y_train)\n",
    "tree_selector = SelectFromModel(clf, prefit=True, max_features=k)\n",
    "\n",
    "selectors = [SKB_selector, RFECV_selector, tree_selector]"
   ]
  },
  {
   "cell_type": "code",
   "execution_count": 29,
   "metadata": {},
   "outputs": [
    {
     "output_type": "stream",
     "name": "stdout",
     "text": [
      "Index([' Research and development expense rate', ' Total Asset Growth Rate',\n       ' Net Value Growth Rate', ' Quick Ratio', ' Total debt/Total net worth',\n       ' Inventory Turnover Rate (times)', ' Fixed Assets Turnover Frequency',\n       ' Cash/Current Liability', ' Inventory/Current Liability',\n       ' Current Asset Turnover Rate'],\n      dtype='object')\nIndex([' Research and development expense rate',\n       ' Interest-bearing debt interest rate', ' Total Asset Growth Rate',\n       ' Net Value Growth Rate', ' Accounts Receivable Turnover',\n       ' Average Collection Days', ' Inventory Turnover Rate (times)',\n       ' Allocation rate per person', ' Quick Assets/Current Liability',\n       ' Cash/Current Liability', ' Inventory/Current Liability',\n       ' Cash Turnover Rate', ' Total assets to GNP price'],\n      dtype='object')\nIndex([' Debt ratio %', ' Net worth/Assets', ' Borrowing dependency',\n       ' Net profit before tax/Paid-in capital', ' Cash/Current Liability',\n       ' Current Liabilities/Equity', ' Retained Earnings to Total Assets',\n       ' Net Income to Total Assets', ' Net Income to Stockholder's Equity',\n       ' Liability to Equity'],\n      dtype='object')\n"
     ]
    }
   ],
   "source": [
    "for selector in selectors:\n",
    "    cols = X_train[X_train.columns[selector.get_support(indices=True)]].columns\n",
    "    print(cols)"
   ]
  },
  {
   "cell_type": "code",
   "execution_count": 34,
   "metadata": {},
   "outputs": [
    {
     "output_type": "stream",
     "name": "stdout",
     "text": [
      "LR: 0.964800 (0.002259)\n",
      "LDA: 0.957762 (0.013444)\n",
      "KNN: 0.967439 (0.001578)\n",
      "CART: 0.949252 (0.007188)\n",
      "NB: 0.080082 (0.010896)\n"
     ]
    }
   ],
   "source": [
    "models = []\n",
    "models.append(('LR', LogisticRegression(solver='liblinear', multi_class='ovr')))\n",
    "models.append(('LDA', LinearDiscriminantAnalysis()))\n",
    "models.append(('KNN', KNeighborsClassifier()))\n",
    "models.append(('CART', DecisionTreeClassifier()))\n",
    "models.append(('NB', GaussianNB()))\n",
    "\n",
    "# evaluate each model in turn\n",
    "results = []\n",
    "names = []\n",
    "\n",
    "for name, model in models:\n",
    "    kfold = StratifiedKFold(n_splits=10, random_state= 1, shuffle=True)\n",
    "    cv_results = cross_val_score(model, X_train, y_train, cv=kfold, scoring='accuracy')\n",
    "    results.append(cv_results)\n",
    "    names.append(name)\n",
    "    print('%s: %f (%f)' % (name, cv_results.mean(), cv_results.std()))"
   ]
  },
  {
   "cell_type": "code",
   "execution_count": 35,
   "metadata": {},
   "outputs": [
    {
     "output_type": "stream",
     "name": "stdout",
     "text": [
      "              precision    recall  f1-score   support\n\n           0       1.00      0.05      0.09      3299\n           1       0.03      1.00      0.07       110\n\n    accuracy                           0.08      3409\n   macro avg       0.52      0.52      0.08      3409\nweighted avg       0.97      0.08      0.09      3409\n\n[[ 163 3136]\n [   0  110]]\n"
     ]
    }
   ],
   "source": [
    "\n",
    "y_train_NB =GaussianNB().fit(X_train, y_train).predict(X_train)\n",
    "\n",
    "print(metrics.classification_report(y_train, y_train_NB))\n",
    "print(metrics.confusion_matrix(y_train, y_train_NB))"
   ]
  },
  {
   "cell_type": "code",
   "execution_count": null,
   "metadata": {},
   "outputs": [],
   "source": []
  }
 ]
}