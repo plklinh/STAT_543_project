{
 "cells": [
  {
   "cell_type": "code",
   "execution_count": 1,
   "id": "eleven-reality",
   "metadata": {
    "execution": {
     "iopub.execute_input": "2021-04-04T18:30:10.497054Z",
     "iopub.status.busy": "2021-04-04T18:30:10.495913Z",
     "iopub.status.idle": "2021-04-04T18:30:10.499294Z",
     "shell.execute_reply": "2021-04-04T18:30:10.499775Z"
    },
    "id": "T5EICsmpeCRd",
    "outputId": "d4877708-8edb-4605-fae2-da1276fe4809",
    "papermill": {
     "duration": 0.029755,
     "end_time": "2021-04-04T18:30:10.500106",
     "exception": false,
     "start_time": "2021-04-04T18:30:10.470351",
     "status": "completed"
    },
    "tags": []
   },
   "outputs": [],
   "source": [
    "#%cd drive/My\\ Drive/U\\ of\\ C/STAT\\ 543/STAT_543_project"
   ]
  },
  {
   "cell_type": "code",
   "execution_count": 2,
   "id": "confused-xerox",
   "metadata": {
    "execution": {
     "iopub.execute_input": "2021-04-04T18:30:10.545781Z",
     "iopub.status.busy": "2021-04-04T18:30:10.545178Z",
     "iopub.status.idle": "2021-04-04T18:30:31.045923Z",
     "shell.execute_reply": "2021-04-04T18:30:31.045382Z"
    },
    "id": "BypY5QIgeKs0",
    "outputId": "523a4342-bced-4c7b-967e-b94b90d8bf43",
    "papermill": {
     "duration": 20.524439,
     "end_time": "2021-04-04T18:30:31.046083",
     "exception": false,
     "start_time": "2021-04-04T18:30:10.521644",
     "status": "completed"
    },
    "tags": []
   },
   "outputs": [
    {
     "name": "stdout",
     "output_type": "stream",
     "text": [
      "Collecting scikit-learn==0.24\r\n",
      "  Downloading scikit_learn-0.24.0-cp37-cp37m-manylinux2010_x86_64.whl (22.3 MB)\r\n",
      "\u001b[K     |████████████████████████████████| 22.3 MB 9.1 MB/s \r\n",
      "\u001b[?25hRequirement already satisfied: joblib>=0.11 in /opt/conda/lib/python3.7/site-packages (from scikit-learn==0.24) (1.0.1)\r\n",
      "Requirement already satisfied: scipy>=0.19.1 in /opt/conda/lib/python3.7/site-packages (from scikit-learn==0.24) (1.5.4)\r\n",
      "Requirement already satisfied: threadpoolctl>=2.0.0 in /opt/conda/lib/python3.7/site-packages (from scikit-learn==0.24) (2.1.0)\r\n",
      "Requirement already satisfied: numpy>=1.13.3 in /opt/conda/lib/python3.7/site-packages (from scikit-learn==0.24) (1.19.5)\r\n",
      "Installing collected packages: scikit-learn\r\n",
      "  Attempting uninstall: scikit-learn\r\n",
      "    Found existing installation: scikit-learn 0.24.1\r\n",
      "    Uninstalling scikit-learn-0.24.1:\r\n",
      "      Successfully uninstalled scikit-learn-0.24.1\r\n",
      "\u001b[31mERROR: pip's dependency resolver does not currently take into account all the packages that are installed. This behaviour is the source of the following dependency conflicts.\r\n",
      "pyldavis 3.3.1 requires numpy>=1.20.0, but you have numpy 1.19.5 which is incompatible.\r\n",
      "pdpbox 0.2.1 requires matplotlib==3.1.1, but you have matplotlib 3.4.0 which is incompatible.\u001b[0m\r\n",
      "Successfully installed scikit-learn-0.24.0\r\n",
      "Requirement already satisfied: imbalanced-learn in /opt/conda/lib/python3.7/site-packages (0.8.0)\r\n",
      "Requirement already satisfied: joblib>=0.11 in /opt/conda/lib/python3.7/site-packages (from imbalanced-learn) (1.0.1)\r\n",
      "Requirement already satisfied: scipy>=0.19.1 in /opt/conda/lib/python3.7/site-packages (from imbalanced-learn) (1.5.4)\r\n",
      "Requirement already satisfied: scikit-learn>=0.24 in /opt/conda/lib/python3.7/site-packages (from imbalanced-learn) (0.24.0)\r\n",
      "Requirement already satisfied: numpy>=1.13.3 in /opt/conda/lib/python3.7/site-packages (from imbalanced-learn) (1.19.5)\r\n",
      "Requirement already satisfied: threadpoolctl>=2.0.0 in /opt/conda/lib/python3.7/site-packages (from scikit-learn>=0.24->imbalanced-learn) (2.1.0)\r\n"
     ]
    }
   ],
   "source": [
    "!pip install -U scikit-learn==0.24\n",
    "!pip install -U imbalanced-learn"
   ]
  },
  {
   "cell_type": "markdown",
   "id": "sized-recommendation",
   "metadata": {
    "id": "B7rJP5SUdzFs",
    "papermill": {
     "duration": 0.039295,
     "end_time": "2021-04-04T18:30:31.127443",
     "exception": false,
     "start_time": "2021-04-04T18:30:31.088148",
     "status": "completed"
    },
    "tags": []
   },
   "source": [
    "## Importing packages"
   ]
  },
  {
   "cell_type": "code",
   "execution_count": 3,
   "id": "temporal-music",
   "metadata": {
    "execution": {
     "iopub.execute_input": "2021-04-04T18:30:31.214797Z",
     "iopub.status.busy": "2021-04-04T18:30:31.214176Z",
     "iopub.status.idle": "2021-04-04T18:30:32.489460Z",
     "shell.execute_reply": "2021-04-04T18:30:32.488895Z"
    },
    "id": "mu7V7AFZd2V3",
    "papermill": {
     "duration": 1.32189,
     "end_time": "2021-04-04T18:30:32.489610",
     "exception": false,
     "start_time": "2021-04-04T18:30:31.167720",
     "status": "completed"
    },
    "tags": []
   },
   "outputs": [],
   "source": [
    "import numpy as np\n",
    "import pandas as pd\n",
    "import seaborn as sns\n",
    "import matplotlib.pyplot as plt\n",
    "from collections import Counter\n",
    "\n",
    "from sklearn.model_selection import train_test_split\n",
    "from sklearn.model_selection import StratifiedKFold, RepeatedStratifiedKFold\n",
    "from sklearn.model_selection import cross_val_score, cross_validate, GridSearchCV\n",
    "from sklearn.pipeline import make_pipeline\n",
    "\n",
    "# Imbalanced Learn module\n",
    "import imblearn\n",
    "\n",
    "# Scaler\n",
    "from sklearn.preprocessing import StandardScaler\n",
    "\n",
    "#Learning Models\n",
    "from sklearn.linear_model import LogisticRegression\n",
    "from sklearn.neighbors import KNeighborsClassifier\n",
    "from sklearn.tree import DecisionTreeClassifier\n",
    "from sklearn.naive_bayes import GaussianNB\n",
    "from sklearn.discriminant_analysis import LinearDiscriminantAnalysis\n",
    "from sklearn.ensemble import RandomForestClassifier\n",
    "from sklearn.svm import SVC\n",
    "\n",
    "# Evaluation Metrics\n",
    "from sklearn import metrics\n",
    "from sklearn.metrics import auc\n",
    "from sklearn.metrics import plot_roc_curve"
   ]
  },
  {
   "cell_type": "markdown",
   "id": "effective-moses",
   "metadata": {
    "id": "n19HEnyzd29N",
    "papermill": {
     "duration": 0.038786,
     "end_time": "2021-04-04T18:30:32.567536",
     "exception": false,
     "start_time": "2021-04-04T18:30:32.528750",
     "status": "completed"
    },
    "tags": []
   },
   "source": [
    "## Data Cleaning"
   ]
  },
  {
   "cell_type": "code",
   "execution_count": 4,
   "id": "periodic-professional",
   "metadata": {
    "execution": {
     "iopub.execute_input": "2021-04-04T18:30:32.653049Z",
     "iopub.status.busy": "2021-04-04T18:30:32.652314Z",
     "iopub.status.idle": "2021-04-04T18:30:33.299872Z",
     "shell.execute_reply": "2021-04-04T18:30:33.299284Z"
    },
    "id": "jfbEXgyed5Jd",
    "outputId": "1c4f0733-83f0-470d-81fa-056f58099e8e",
    "papermill": {
     "duration": 0.693344,
     "end_time": "2021-04-04T18:30:33.300031",
     "exception": false,
     "start_time": "2021-04-04T18:30:32.606687",
     "status": "completed"
    },
    "tags": []
   },
   "outputs": [
    {
     "name": "stderr",
     "output_type": "stream",
     "text": [
      "/opt/conda/lib/python3.7/site-packages/IPython/core/interactiveshell.py:3156: DtypeWarning: Columns (15,24) have mixed types.Specify dtype option on import or set low_memory=False.\n",
      "  interactivity=interactivity, compiler=compiler, result=result)\n"
     ]
    },
    {
     "data": {
      "text/plain": [
       "(10503, 65)"
      ]
     },
     "execution_count": 4,
     "metadata": {},
     "output_type": "execute_result"
    }
   ],
   "source": [
    "polish_3_year = pd.read_csv(\"../input/stat543/3year.csv\")\n",
    "polish_attr = pd.read_csv(\"../input/stat543/attr_name.csv\")\n",
    "polish_3_year.replace({\"?\": np.nan }, inplace= True)\n",
    "for col in polish_3_year.columns[:-1]:\n",
    "    polish_3_year[col] = polish_3_year[col].astype(\"float64\")\n",
    "attr_map = {}\n",
    "for row in polish_attr.itertuples(index = False):\n",
    "    attr_map[row[0]] = row[1]\n",
    "polish_3_year.rename(columns = attr_map, inplace = True)\n",
    "polish_3_year.drop(columns=[\"id\"], inplace=True)\n",
    "polish_3_year.shape"
   ]
  },
  {
   "cell_type": "markdown",
   "id": "sudden-worry",
   "metadata": {
    "id": "rih_wPUwlwFi",
    "papermill": {
     "duration": 0.039209,
     "end_time": "2021-04-04T18:30:33.378924",
     "exception": false,
     "start_time": "2021-04-04T18:30:33.339715",
     "status": "completed"
    },
    "tags": []
   },
   "source": [
    "### Removing Missing Values"
   ]
  },
  {
   "cell_type": "code",
   "execution_count": 5,
   "id": "speaking-minority",
   "metadata": {
    "execution": {
     "iopub.execute_input": "2021-04-04T18:30:33.463037Z",
     "iopub.status.busy": "2021-04-04T18:30:33.462435Z",
     "iopub.status.idle": "2021-04-04T18:30:33.489706Z",
     "shell.execute_reply": "2021-04-04T18:30:33.489201Z"
    },
    "id": "1B3ZSU4amECk",
    "outputId": "5608448f-9c46-4fdb-9c05-164467d68282",
    "papermill": {
     "duration": 0.071385,
     "end_time": "2021-04-04T18:30:33.489838",
     "exception": false,
     "start_time": "2021-04-04T18:30:33.418453",
     "status": "completed"
    },
    "tags": []
   },
   "outputs": [
    {
     "data": {
      "text/plain": [
       "sales (n) / sales (n-1)                                    807\n",
       "profit on operating activities / financial expenses        715\n",
       "(current assets - inventories) / long-term liabilities    4736\n",
       "net profit / inventory                                     591\n",
       "sales / inventory                                          592\n",
       "dtype: int64"
      ]
     },
     "execution_count": 5,
     "metadata": {},
     "output_type": "execute_result"
    }
   ],
   "source": [
    "more_than_500_NA = polish_3_year.isna().sum()[polish_3_year.isna().sum() > 500]\n",
    "more_than_500_NA"
   ]
  },
  {
   "cell_type": "code",
   "execution_count": 6,
   "id": "expected-greeting",
   "metadata": {
    "execution": {
     "iopub.execute_input": "2021-04-04T18:30:33.573419Z",
     "iopub.status.busy": "2021-04-04T18:30:33.572786Z",
     "iopub.status.idle": "2021-04-04T18:30:33.599781Z",
     "shell.execute_reply": "2021-04-04T18:30:33.599045Z"
    },
    "id": "206zvyOYlHvo",
    "outputId": "4d27654b-3870-4243-c959-b0d2195abbab",
    "papermill": {
     "duration": 0.070117,
     "end_time": "2021-04-04T18:30:33.599963",
     "exception": false,
     "start_time": "2021-04-04T18:30:33.529846",
     "status": "completed"
    },
    "tags": []
   },
   "outputs": [
    {
     "name": "stdout",
     "output_type": "stream",
     "text": [
      "Before Dropping NA:\n",
      "class\n",
      "0    10008\n",
      "1      495\n",
      "dtype: int64\n",
      "\n",
      "After Dropping NA:\n",
      "class\n",
      "0    9277\n",
      "1     475\n",
      "dtype: int64\n"
     ]
    }
   ],
   "source": [
    "data = polish_3_year.drop(columns = more_than_500_NA.index ).dropna()\n",
    "\n",
    "X = data.drop(columns=[\"class\"])\n",
    "y = data[\"class\"]\n",
    "\n",
    "print(\"Before Dropping NA:\")\n",
    "print(polish_3_year.groupby('class').size())\n",
    "print(\"\\nAfter Dropping NA:\")\n",
    "print(data.groupby('class').size() )"
   ]
  },
  {
   "cell_type": "markdown",
   "id": "western-philip",
   "metadata": {
    "id": "AWJRqyL9l0Fv",
    "papermill": {
     "duration": 0.040243,
     "end_time": "2021-04-04T18:30:33.681020",
     "exception": false,
     "start_time": "2021-04-04T18:30:33.640777",
     "status": "completed"
    },
    "tags": []
   },
   "source": [
    "### Detecting Potential Outliers"
   ]
  },
  {
   "cell_type": "code",
   "execution_count": 7,
   "id": "worthy-acoustic",
   "metadata": {
    "execution": {
     "iopub.execute_input": "2021-04-04T18:30:33.765640Z",
     "iopub.status.busy": "2021-04-04T18:30:33.764718Z",
     "iopub.status.idle": "2021-04-04T18:30:33.926243Z",
     "shell.execute_reply": "2021-04-04T18:30:33.925665Z"
    },
    "id": "pFt7isUGjtVN",
    "outputId": "983c9332-bd0a-4ab9-99f2-0c4373d85aeb",
    "papermill": {
     "duration": 0.204835,
     "end_time": "2021-04-04T18:30:33.926388",
     "exception": false,
     "start_time": "2021-04-04T18:30:33.721553",
     "status": "completed"
    },
    "tags": []
   },
   "outputs": [
    {
     "data": {
      "text/html": [
       "<div>\n",
       "<style scoped>\n",
       "    .dataframe tbody tr th:only-of-type {\n",
       "        vertical-align: middle;\n",
       "    }\n",
       "\n",
       "    .dataframe tbody tr th {\n",
       "        vertical-align: top;\n",
       "    }\n",
       "\n",
       "    .dataframe thead th {\n",
       "        text-align: right;\n",
       "    }\n",
       "</style>\n",
       "<table border=\"1\" class=\"dataframe\">\n",
       "  <thead>\n",
       "    <tr style=\"text-align: right;\">\n",
       "      <th></th>\n",
       "      <th>net profit / total assets</th>\n",
       "      <th>total liabilities / total assets</th>\n",
       "      <th>working capital / total assets</th>\n",
       "      <th>current assets / short-term liabilities</th>\n",
       "      <th>[(cash + short-term securities + receivables - short-term liabilities) / (operating expenses - depreciation)] * 365</th>\n",
       "      <th>retained earnings / total assets</th>\n",
       "      <th>EBIT / total assets</th>\n",
       "      <th>book value of equity / total liabilities</th>\n",
       "      <th>sales / total assets</th>\n",
       "      <th>equity / total assets</th>\n",
       "      <th>...</th>\n",
       "      <th>constant capital / fixed assets</th>\n",
       "      <th>working capital</th>\n",
       "      <th>(sales - cost of products sold) / sales</th>\n",
       "      <th>(current assets - inventory - short-term liabilities) / (sales - gross profit - depreciation)</th>\n",
       "      <th>total costs /total sales</th>\n",
       "      <th>long-term liabilities / equity</th>\n",
       "      <th>sales / receivables</th>\n",
       "      <th>(short-term liabilities *365) / sales</th>\n",
       "      <th>sales / short-term liabilities</th>\n",
       "      <th>sales / fixed assets</th>\n",
       "    </tr>\n",
       "  </thead>\n",
       "  <tbody>\n",
       "    <tr>\n",
       "      <th>count</th>\n",
       "      <td>9752.000000</td>\n",
       "      <td>9752.000000</td>\n",
       "      <td>9752.000000</td>\n",
       "      <td>9752.000000</td>\n",
       "      <td>9.752000e+03</td>\n",
       "      <td>9752.000000</td>\n",
       "      <td>9752.000000</td>\n",
       "      <td>9752.000000</td>\n",
       "      <td>9752.000000</td>\n",
       "      <td>9752.000000</td>\n",
       "      <td>...</td>\n",
       "      <td>9752.000000</td>\n",
       "      <td>9.752000e+03</td>\n",
       "      <td>9752.000000</td>\n",
       "      <td>9752.000000</td>\n",
       "      <td>9752.000000</td>\n",
       "      <td>9752.000000</td>\n",
       "      <td>9752.000000</td>\n",
       "      <td>9.752000e+03</td>\n",
       "      <td>9752.000000</td>\n",
       "      <td>9752.000000</td>\n",
       "    </tr>\n",
       "    <tr>\n",
       "      <th>mean</th>\n",
       "      <td>0.051600</td>\n",
       "      <td>0.515888</td>\n",
       "      <td>0.181486</td>\n",
       "      <td>3.865705</td>\n",
       "      <td>-1.432025e+03</td>\n",
       "      <td>0.001926</td>\n",
       "      <td>0.064508</td>\n",
       "      <td>10.914967</td>\n",
       "      <td>1.764718</td>\n",
       "      <td>0.467592</td>\n",
       "      <td>...</td>\n",
       "      <td>6.476850</td>\n",
       "      <td>6.833500e+03</td>\n",
       "      <td>-0.583899</td>\n",
       "      <td>-0.052977</td>\n",
       "      <td>1.621006</td>\n",
       "      <td>1.537521</td>\n",
       "      <td>13.762093</td>\n",
       "      <td>-1.784091e+01</td>\n",
       "      <td>8.605283</td>\n",
       "      <td>35.621111</td>\n",
       "    </tr>\n",
       "    <tr>\n",
       "      <th>std</th>\n",
       "      <td>0.246216</td>\n",
       "      <td>0.453837</td>\n",
       "      <td>0.404276</td>\n",
       "      <td>36.058037</td>\n",
       "      <td>1.228921e+05</td>\n",
       "      <td>0.926228</td>\n",
       "      <td>0.255076</td>\n",
       "      <td>434.357741</td>\n",
       "      <td>7.626330</td>\n",
       "      <td>0.470739</td>\n",
       "      <td>...</td>\n",
       "      <td>94.997248</td>\n",
       "      <td>6.086011e+04</td>\n",
       "      <td>57.974726</td>\n",
       "      <td>19.333040</td>\n",
       "      <td>57.926556</td>\n",
       "      <td>80.170766</td>\n",
       "      <td>82.483066</td>\n",
       "      <td>2.434534e+04</td>\n",
       "      <td>26.819405</td>\n",
       "      <td>438.000507</td>\n",
       "    </tr>\n",
       "    <tr>\n",
       "      <th>min</th>\n",
       "      <td>-6.453500</td>\n",
       "      <td>0.000034</td>\n",
       "      <td>-10.579000</td>\n",
       "      <td>0.006468</td>\n",
       "      <td>-1.190300e+07</td>\n",
       "      <td>-70.966000</td>\n",
       "      <td>-6.453500</td>\n",
       "      <td>-2.081800</td>\n",
       "      <td>-0.000084</td>\n",
       "      <td>-15.643000</td>\n",
       "      <td>...</td>\n",
       "      <td>-706.490000</td>\n",
       "      <td>-7.513800e+05</td>\n",
       "      <td>-5691.700000</td>\n",
       "      <td>-1667.300000</td>\n",
       "      <td>-1.328100</td>\n",
       "      <td>-142.790000</td>\n",
       "      <td>-0.014534</td>\n",
       "      <td>-2.336500e+06</td>\n",
       "      <td>-0.000156</td>\n",
       "      <td>-0.000102</td>\n",
       "    </tr>\n",
       "    <tr>\n",
       "      <th>25%</th>\n",
       "      <td>0.001280</td>\n",
       "      <td>0.258823</td>\n",
       "      <td>0.014270</td>\n",
       "      <td>1.034175</td>\n",
       "      <td>-5.224150e+01</td>\n",
       "      <td>0.000000</td>\n",
       "      <td>0.003055</td>\n",
       "      <td>0.438290</td>\n",
       "      <td>1.011875</td>\n",
       "      <td>0.299820</td>\n",
       "      <td>...</td>\n",
       "      <td>0.944410</td>\n",
       "      <td>1.112050e+01</td>\n",
       "      <td>0.004847</td>\n",
       "      <td>0.007484</td>\n",
       "      <td>0.884160</td>\n",
       "      <td>0.000000</td>\n",
       "      <td>4.548625</td>\n",
       "      <td>4.150275e+01</td>\n",
       "      <td>3.088025</td>\n",
       "      <td>2.021000</td>\n",
       "    </tr>\n",
       "    <tr>\n",
       "      <th>50%</th>\n",
       "      <td>0.043440</td>\n",
       "      <td>0.465455</td>\n",
       "      <td>0.189010</td>\n",
       "      <td>1.576650</td>\n",
       "      <td>3.333850e-01</td>\n",
       "      <td>0.000000</td>\n",
       "      <td>0.051630</td>\n",
       "      <td>1.106450</td>\n",
       "      <td>1.180500</td>\n",
       "      <td>0.513100</td>\n",
       "      <td>...</td>\n",
       "      <td>1.358750</td>\n",
       "      <td>9.722100e+02</td>\n",
       "      <td>0.049528</td>\n",
       "      <td>0.106970</td>\n",
       "      <td>0.955075</td>\n",
       "      <td>0.007428</td>\n",
       "      <td>6.741500</td>\n",
       "      <td>7.106050e+01</td>\n",
       "      <td>5.134900</td>\n",
       "      <td>4.012650</td>\n",
       "    </tr>\n",
       "    <tr>\n",
       "      <th>75%</th>\n",
       "      <td>0.122340</td>\n",
       "      <td>0.685893</td>\n",
       "      <td>0.401342</td>\n",
       "      <td>2.859375</td>\n",
       "      <td>5.325850e+01</td>\n",
       "      <td>0.086426</td>\n",
       "      <td>0.141250</td>\n",
       "      <td>2.778875</td>\n",
       "      <td>2.012200</td>\n",
       "      <td>0.719600</td>\n",
       "      <td>...</td>\n",
       "      <td>2.366775</td>\n",
       "      <td>4.617400e+03</td>\n",
       "      <td>0.122438</td>\n",
       "      <td>0.268122</td>\n",
       "      <td>0.996193</td>\n",
       "      <td>0.260740</td>\n",
       "      <td>10.659000</td>\n",
       "      <td>1.181800e+02</td>\n",
       "      <td>8.793850</td>\n",
       "      <td>9.470150</td>\n",
       "    </tr>\n",
       "    <tr>\n",
       "      <th>max</th>\n",
       "      <td>10.503000</td>\n",
       "      <td>16.643000</td>\n",
       "      <td>0.993960</td>\n",
       "      <td>3171.700000</td>\n",
       "      <td>6.854400e+05</td>\n",
       "      <td>25.413000</td>\n",
       "      <td>10.503000</td>\n",
       "      <td>29636.000000</td>\n",
       "      <td>740.440000</td>\n",
       "      <td>11.837000</td>\n",
       "      <td>...</td>\n",
       "      <td>6234.300000</td>\n",
       "      <td>3.380500e+06</td>\n",
       "      <td>293.150000</td>\n",
       "      <td>552.640000</td>\n",
       "      <td>5693.700000</td>\n",
       "      <td>7617.300000</td>\n",
       "      <td>4470.400000</td>\n",
       "      <td>5.018400e+05</td>\n",
       "      <td>1974.500000</td>\n",
       "      <td>21499.000000</td>\n",
       "    </tr>\n",
       "  </tbody>\n",
       "</table>\n",
       "<p>8 rows × 59 columns</p>\n",
       "</div>"
      ],
      "text/plain": [
       "       net profit / total assets  total liabilities / total assets  \\\n",
       "count                9752.000000                       9752.000000   \n",
       "mean                    0.051600                          0.515888   \n",
       "std                     0.246216                          0.453837   \n",
       "min                    -6.453500                          0.000034   \n",
       "25%                     0.001280                          0.258823   \n",
       "50%                     0.043440                          0.465455   \n",
       "75%                     0.122340                          0.685893   \n",
       "max                    10.503000                         16.643000   \n",
       "\n",
       "       working capital / total assets  \\\n",
       "count                     9752.000000   \n",
       "mean                         0.181486   \n",
       "std                          0.404276   \n",
       "min                        -10.579000   \n",
       "25%                          0.014270   \n",
       "50%                          0.189010   \n",
       "75%                          0.401342   \n",
       "max                          0.993960   \n",
       "\n",
       "       current assets / short-term liabilities  \\\n",
       "count                              9752.000000   \n",
       "mean                                  3.865705   \n",
       "std                                  36.058037   \n",
       "min                                   0.006468   \n",
       "25%                                   1.034175   \n",
       "50%                                   1.576650   \n",
       "75%                                   2.859375   \n",
       "max                                3171.700000   \n",
       "\n",
       "       [(cash + short-term securities + receivables - short-term liabilities) / (operating expenses - depreciation)] * 365  \\\n",
       "count                                       9.752000e+03                                                                     \n",
       "mean                                       -1.432025e+03                                                                     \n",
       "std                                         1.228921e+05                                                                     \n",
       "min                                        -1.190300e+07                                                                     \n",
       "25%                                        -5.224150e+01                                                                     \n",
       "50%                                         3.333850e-01                                                                     \n",
       "75%                                         5.325850e+01                                                                     \n",
       "max                                         6.854400e+05                                                                     \n",
       "\n",
       "       retained earnings / total assets  EBIT / total assets  \\\n",
       "count                       9752.000000          9752.000000   \n",
       "mean                           0.001926             0.064508   \n",
       "std                            0.926228             0.255076   \n",
       "min                          -70.966000            -6.453500   \n",
       "25%                            0.000000             0.003055   \n",
       "50%                            0.000000             0.051630   \n",
       "75%                            0.086426             0.141250   \n",
       "max                           25.413000            10.503000   \n",
       "\n",
       "       book value of equity / total liabilities  sales / total assets  \\\n",
       "count                               9752.000000           9752.000000   \n",
       "mean                                  10.914967              1.764718   \n",
       "std                                  434.357741              7.626330   \n",
       "min                                   -2.081800             -0.000084   \n",
       "25%                                    0.438290              1.011875   \n",
       "50%                                    1.106450              1.180500   \n",
       "75%                                    2.778875              2.012200   \n",
       "max                                29636.000000            740.440000   \n",
       "\n",
       "       equity / total assets  ...  constant capital / fixed assets  \\\n",
       "count            9752.000000  ...                      9752.000000   \n",
       "mean                0.467592  ...                         6.476850   \n",
       "std                 0.470739  ...                        94.997248   \n",
       "min               -15.643000  ...                      -706.490000   \n",
       "25%                 0.299820  ...                         0.944410   \n",
       "50%                 0.513100  ...                         1.358750   \n",
       "75%                 0.719600  ...                         2.366775   \n",
       "max                11.837000  ...                      6234.300000   \n",
       "\n",
       "       working capital  (sales - cost of products sold) / sales  \\\n",
       "count     9.752000e+03                              9752.000000   \n",
       "mean      6.833500e+03                                -0.583899   \n",
       "std       6.086011e+04                                57.974726   \n",
       "min      -7.513800e+05                             -5691.700000   \n",
       "25%       1.112050e+01                                 0.004847   \n",
       "50%       9.722100e+02                                 0.049528   \n",
       "75%       4.617400e+03                                 0.122438   \n",
       "max       3.380500e+06                               293.150000   \n",
       "\n",
       "       (current assets - inventory - short-term liabilities) / (sales - gross profit - depreciation)  \\\n",
       "count                                        9752.000000                                               \n",
       "mean                                           -0.052977                                               \n",
       "std                                            19.333040                                               \n",
       "min                                         -1667.300000                                               \n",
       "25%                                             0.007484                                               \n",
       "50%                                             0.106970                                               \n",
       "75%                                             0.268122                                               \n",
       "max                                           552.640000                                               \n",
       "\n",
       "       total costs /total sales  long-term liabilities / equity  \\\n",
       "count               9752.000000                     9752.000000   \n",
       "mean                   1.621006                        1.537521   \n",
       "std                   57.926556                       80.170766   \n",
       "min                   -1.328100                     -142.790000   \n",
       "25%                    0.884160                        0.000000   \n",
       "50%                    0.955075                        0.007428   \n",
       "75%                    0.996193                        0.260740   \n",
       "max                 5693.700000                     7617.300000   \n",
       "\n",
       "       sales / receivables  (short-term liabilities *365) / sales  \\\n",
       "count          9752.000000                           9.752000e+03   \n",
       "mean             13.762093                          -1.784091e+01   \n",
       "std              82.483066                           2.434534e+04   \n",
       "min              -0.014534                          -2.336500e+06   \n",
       "25%               4.548625                           4.150275e+01   \n",
       "50%               6.741500                           7.106050e+01   \n",
       "75%              10.659000                           1.181800e+02   \n",
       "max            4470.400000                           5.018400e+05   \n",
       "\n",
       "       sales / short-term liabilities  sales / fixed assets  \n",
       "count                     9752.000000           9752.000000  \n",
       "mean                         8.605283             35.621111  \n",
       "std                         26.819405            438.000507  \n",
       "min                         -0.000156             -0.000102  \n",
       "25%                          3.088025              2.021000  \n",
       "50%                          5.134900              4.012650  \n",
       "75%                          8.793850              9.470150  \n",
       "max                       1974.500000          21499.000000  \n",
       "\n",
       "[8 rows x 59 columns]"
      ]
     },
     "execution_count": 7,
     "metadata": {},
     "output_type": "execute_result"
    }
   ],
   "source": [
    "non_ratios = ['[(cash + short-term securities + receivables - short-term liabilities) / (operating expenses - depreciation)] * 365',\n",
    "              '(total liabilities * 365) / (gross profit + depreciation)', \n",
    "              '(inventory * 365) / sales', \n",
    "              '(current liabilities * 365) / cost of products sold', \n",
    "              'rotation receivables + inventory turnover in days',\n",
    "              '(receivables * 365) / sales', \n",
    "              '(inventory * 365) / cost of products sold', \n",
    "              'working capital', \n",
    "              '(short-term liabilities *365) / sales']\n",
    "X.describe()"
   ]
  },
  {
   "cell_type": "code",
   "execution_count": 8,
   "id": "lovely-subcommittee",
   "metadata": {
    "execution": {
     "iopub.execute_input": "2021-04-04T18:30:34.017131Z",
     "iopub.status.busy": "2021-04-04T18:30:34.016442Z",
     "iopub.status.idle": "2021-04-04T18:30:34.801441Z",
     "shell.execute_reply": "2021-04-04T18:30:34.800896Z"
    },
    "id": "bnmjibEStKnp",
    "outputId": "67dd5ce0-b894-498e-e94d-dfbdb6bc9a2f",
    "papermill": {
     "duration": 0.833983,
     "end_time": "2021-04-04T18:30:34.801575",
     "exception": false,
     "start_time": "2021-04-04T18:30:33.967592",
     "status": "completed"
    },
    "tags": []
   },
   "outputs": [
    {
     "name": "stdout",
     "output_type": "stream",
     "text": [
      "Classes in Original Sample: Counter({0: 9277, 1: 475}) \n",
      "\n",
      "  Using Z-score:\n",
      "Classes after removing Potential Outliers: Counter({0: 9022, 1: 458})\n",
      "Classes among Potential Outliers: Counter({0: 255, 1: 17})\n",
      "\n",
      "   Using Isolation Forest:\n",
      "Classes after removing Potential Outliers: Counter({0: 9027, 1: 447})\n",
      "Classes among Potential Outliers: Counter({0: 250, 1: 28})\n"
     ]
    }
   ],
   "source": [
    "from scipy import stats\n",
    "import numpy as np\n",
    "import matplotlib.pyplot as plt\n",
    "from sklearn.ensemble import IsolationForest\n",
    "\n",
    "# Detecting Using z score\n",
    "z = np.abs(stats.zscore(X))\n",
    "\n",
    "z_thres = 6\n",
    "\n",
    "X_z_no = X[(z < z_thres).all(axis=1)]\n",
    "y_z_no = y[(z < z_thres).all(axis=1)]\n",
    "\n",
    "X_z_o = X[(z >= z_thres).any(axis=1)]\n",
    "y_z_o = y[(z >= z_thres).any(axis=1)]\n",
    "\n",
    "\n",
    "# Detecting using Random Forest\n",
    "isof = IsolationForest(random_state = 0)\n",
    "isof.fit(X)\n",
    "X_outlier_pred = isof.predict(X)\n",
    "\n",
    "X_iso_no = X[X_outlier_pred == 1]\n",
    "y_iso_no = y[X_outlier_pred == 1]\n",
    "\n",
    "X_iso_o = X[X_outlier_pred == -1]\n",
    "y_iso_o = y[X_outlier_pred == -1]\n",
    "\n",
    "print(f\"Classes in Original Sample: {Counter(y)} \\n\")\n",
    "\n",
    "print(\"  Using Z-score:\")\n",
    "print(f'Classes after removing Potential Outliers: { Counter(y_z_no) }')\n",
    "print(f'Classes among Potential Outliers: { Counter(y_z_o) }')\n",
    "\n",
    "print(\"\\n   Using Isolation Forest:\")\n",
    "print(f'Classes after removing Potential Outliers: { Counter(y_iso_no) }')\n",
    "print(f'Classes among Potential Outliers: { Counter(y_iso_o) }')"
   ]
  },
  {
   "cell_type": "code",
   "execution_count": 9,
   "id": "imperial-blood",
   "metadata": {
    "execution": {
     "iopub.execute_input": "2021-04-04T18:30:34.897537Z",
     "iopub.status.busy": "2021-04-04T18:30:34.896790Z",
     "iopub.status.idle": "2021-04-04T18:30:34.900912Z",
     "shell.execute_reply": "2021-04-04T18:30:34.900380Z"
    },
    "id": "qGt0BiAVGYcJ",
    "outputId": "f4763eb2-bb19-4865-be6f-8dc88e81fa5b",
    "papermill": {
     "duration": 0.057861,
     "end_time": "2021-04-04T18:30:34.901132",
     "exception": false,
     "start_time": "2021-04-04T18:30:34.843271",
     "status": "completed"
    },
    "tags": []
   },
   "outputs": [
    {
     "data": {
      "text/plain": [
       "118"
      ]
     },
     "execution_count": 9,
     "metadata": {},
     "output_type": "execute_result"
    }
   ],
   "source": [
    "# Overlap between two methods\n",
    "len(X_iso_o.join(X_z_o, how = \"inner\", rsuffix =  \"_z\"))"
   ]
  },
  {
   "cell_type": "markdown",
   "id": "express-convertible",
   "metadata": {
    "id": "flCrvb2wyIue",
    "papermill": {
     "duration": 0.042422,
     "end_time": "2021-04-04T18:30:34.985527",
     "exception": false,
     "start_time": "2021-04-04T18:30:34.943105",
     "status": "completed"
    },
    "tags": []
   },
   "source": [
    "## Multicollinearity"
   ]
  },
  {
   "cell_type": "code",
   "execution_count": 10,
   "id": "associate-calgary",
   "metadata": {
    "execution": {
     "iopub.execute_input": "2021-04-04T18:30:35.081432Z",
     "iopub.status.busy": "2021-04-04T18:30:35.080769Z",
     "iopub.status.idle": "2021-04-04T18:30:35.195038Z",
     "shell.execute_reply": "2021-04-04T18:30:35.195538Z"
    },
    "id": "RJPiClTsyH3D",
    "outputId": "04565d64-d039-4038-c9e1-de70ff465cbf",
    "papermill": {
     "duration": 0.16271,
     "end_time": "2021-04-04T18:30:35.195704",
     "exception": false,
     "start_time": "2021-04-04T18:30:35.032994",
     "status": "completed"
    },
    "tags": []
   },
   "outputs": [],
   "source": [
    "# Method: Variable Inflation Factor\n",
    "# Reference: https://www.analyticsvidhya.com/blog/2020/03/what-is-multicollinearity/\n",
    "\n",
    "from statsmodels.stats.outliers_influence import variance_inflation_factor\n",
    "\n",
    "def calc_vif(X):\n",
    "    vif = pd.DataFrame()\n",
    "    vif[\"variables\"] = X.columns\n",
    "    vif[\"VIF\"] = [variance_inflation_factor(X.values, i) for i in range(X.shape[1])]\n",
    "    vif.sort_values(by = \"VIF\", ascending=False, inplace=True)\n",
    "    return vif"
   ]
  },
  {
   "cell_type": "code",
   "execution_count": 11,
   "id": "younger-benchmark",
   "metadata": {
    "execution": {
     "iopub.execute_input": "2021-04-04T18:30:35.282550Z",
     "iopub.status.busy": "2021-04-04T18:30:35.281948Z",
     "iopub.status.idle": "2021-04-04T18:30:39.906094Z",
     "shell.execute_reply": "2021-04-04T18:30:39.906900Z"
    },
    "id": "icO4Ze2EzOpy",
    "outputId": "854f5bab-ed89-4534-e4d3-49d5051205f9",
    "papermill": {
     "duration": 4.669497,
     "end_time": "2021-04-04T18:30:39.907200",
     "exception": false,
     "start_time": "2021-04-04T18:30:35.237703",
     "status": "completed"
    },
    "tags": []
   },
   "outputs": [
    {
     "name": "stderr",
     "output_type": "stream",
     "text": [
      "/opt/conda/lib/python3.7/site-packages/statsmodels/stats/outliers_influence.py:193: RuntimeWarning: divide by zero encountered in double_scalars\n",
      "  vif = 1. / (1. - r_squared_i)\n"
     ]
    },
    {
     "data": {
      "text/html": [
       "<div>\n",
       "<style scoped>\n",
       "    .dataframe tbody tr th:only-of-type {\n",
       "        vertical-align: middle;\n",
       "    }\n",
       "\n",
       "    .dataframe tbody tr th {\n",
       "        vertical-align: top;\n",
       "    }\n",
       "\n",
       "    .dataframe thead th {\n",
       "        text-align: right;\n",
       "    }\n",
       "</style>\n",
       "<table border=\"1\" class=\"dataframe\">\n",
       "  <thead>\n",
       "    <tr style=\"text-align: right;\">\n",
       "      <th></th>\n",
       "      <th>variables</th>\n",
       "      <th>VIF</th>\n",
       "    </tr>\n",
       "  </thead>\n",
       "  <tbody>\n",
       "    <tr>\n",
       "      <th>6</th>\n",
       "      <td>EBIT / total assets</td>\n",
       "      <td>inf</td>\n",
       "    </tr>\n",
       "    <tr>\n",
       "      <th>17</th>\n",
       "      <td>gross profit / total assets</td>\n",
       "      <td>inf</td>\n",
       "    </tr>\n",
       "    <tr>\n",
       "      <th>13</th>\n",
       "      <td>(gross profit + interest) / total assets</td>\n",
       "      <td>inf</td>\n",
       "    </tr>\n",
       "    <tr>\n",
       "      <th>39</th>\n",
       "      <td>rotation receivables + inventory turnover in days</td>\n",
       "      <td>9.471830e+09</td>\n",
       "    </tr>\n",
       "    <tr>\n",
       "      <th>40</th>\n",
       "      <td>(receivables * 365) / sales</td>\n",
       "      <td>7.443413e+09</td>\n",
       "    </tr>\n",
       "  </tbody>\n",
       "</table>\n",
       "</div>"
      ],
      "text/plain": [
       "                                            variables           VIF\n",
       "6                                 EBIT / total assets           inf\n",
       "17                        gross profit / total assets           inf\n",
       "13           (gross profit + interest) / total assets           inf\n",
       "39  rotation receivables + inventory turnover in days  9.471830e+09\n",
       "40                        (receivables * 365) / sales  7.443413e+09"
      ]
     },
     "execution_count": 11,
     "metadata": {},
     "output_type": "execute_result"
    }
   ],
   "source": [
    "calc_vif(X_z_no).head()"
   ]
  },
  {
   "cell_type": "code",
   "execution_count": 12,
   "id": "composite-sustainability",
   "metadata": {
    "execution": {
     "iopub.execute_input": "2021-04-04T18:30:40.105026Z",
     "iopub.status.busy": "2021-04-04T18:30:40.104364Z",
     "iopub.status.idle": "2021-04-04T18:30:42.857102Z",
     "shell.execute_reply": "2021-04-04T18:30:42.856514Z"
    },
    "id": "TdLeGAn8zcg6",
    "outputId": "74052ad7-7416-4ac8-b0cb-89719ddc6178",
    "papermill": {
     "duration": 2.864595,
     "end_time": "2021-04-04T18:30:42.857236",
     "exception": false,
     "start_time": "2021-04-04T18:30:39.992641",
     "status": "completed"
    },
    "tags": []
   },
   "outputs": [
    {
     "data": {
      "image/png": "[encoded data removed]",
      "text/plain": [
       "<Figure size 864x576 with 2 Axes>"
      ]
     },
     "metadata": {
      "needs_background": "light"
     },
     "output_type": "display_data"
    }
   ],
   "source": [
    "# Method: Hierarchical clustering on the Spearman rank-order correlations\n",
    "# Reference: https://scikit-learn.org/stable/auto_examples/inspection/plot_permutation_importance_multicollinear.html#sphx-glr-auto-examples-inspection-plot-permutation-importance-multicollinear-py\n",
    "\n",
    "from collections import defaultdict\n",
    "from scipy.stats import spearmanr\n",
    "from scipy.cluster import hierarchy\n",
    "\n",
    "fig, (ax1, ax2) = plt.subplots(1, 2, figsize=(12, 8))\n",
    "\n",
    "# Calculate Correlation based on Spearman's Rank\n",
    "\n",
    "def plot_spearman_cor(X):\n",
    "    corr = spearmanr(X).correlation\n",
    "    corr_linkage = hierarchy.ward(corr)\n",
    "    dendro = hierarchy.dendrogram(\n",
    "        corr_linkage, labels=  np.arange(len(X.columns)) , ax=ax1, leaf_rotation=90\n",
    "    )\n",
    "    dendro_idx = np.arange(0, len(dendro['ivl']))\n",
    "\n",
    "    ax2.imshow(corr[dendro['leaves'], :][:, dendro['leaves']])\n",
    "    ax2.set_xticks(dendro_idx)\n",
    "    ax2.set_yticks(dendro_idx)\n",
    "    ax2.set_xticklabels(dendro['ivl'], rotation='vertical')\n",
    "    ax2.set_yticklabels(dendro['ivl'])\n",
    "    fig.tight_layout()\n",
    "    \n",
    "    return corr_linkage, fig\n",
    "\n",
    "def filter_mc_features(corr_linkage):\n",
    "    cluster_ids = hierarchy.fcluster(corr_linkage, 1, criterion='distance')\n",
    "    cluster_id_to_feature_ids = defaultdict(list)\n",
    "    for idx, cluster_id in enumerate(cluster_ids):\n",
    "        cluster_id_to_feature_ids[cluster_id].append(idx)\n",
    "    selected_features_0 = [v[1] if len(v) > 1 else v[0] for v in cluster_id_to_feature_ids.values() ]\n",
    "    selected_features_1 = [v[0] for v in cluster_id_to_feature_ids.values() ]\n",
    "\n",
    "    return selected_features_0, selected_features_1\n",
    "\n",
    "corr_linkage, fig = plot_spearman_cor(X_z_no)\n",
    "sf_0, sf_1 = filter_mc_features(corr_linkage)\n",
    "fig.show()"
   ]
  },
  {
   "cell_type": "code",
   "execution_count": 13,
   "id": "embedded-bouquet",
   "metadata": {
    "execution": {
     "iopub.execute_input": "2021-04-04T18:30:42.955251Z",
     "iopub.status.busy": "2021-04-04T18:30:42.954621Z",
     "iopub.status.idle": "2021-04-04T18:30:43.826823Z",
     "shell.execute_reply": "2021-04-04T18:30:43.827758Z"
    },
    "id": "zQVUlzBQ2WDp",
    "outputId": "069ec351-9fe7-4b71-a36f-11ac486b5590",
    "papermill": {
     "duration": 0.925742,
     "end_time": "2021-04-04T18:30:43.828070",
     "exception": false,
     "start_time": "2021-04-04T18:30:42.902328",
     "status": "completed"
    },
    "tags": []
   },
   "outputs": [
    {
     "data": {
      "text/html": [
       "<div>\n",
       "<style scoped>\n",
       "    .dataframe tbody tr th:only-of-type {\n",
       "        vertical-align: middle;\n",
       "    }\n",
       "\n",
       "    .dataframe tbody tr th {\n",
       "        vertical-align: top;\n",
       "    }\n",
       "\n",
       "    .dataframe thead th {\n",
       "        text-align: right;\n",
       "    }\n",
       "</style>\n",
       "<table border=\"1\" class=\"dataframe\">\n",
       "  <thead>\n",
       "    <tr style=\"text-align: right;\">\n",
       "      <th></th>\n",
       "      <th>variables</th>\n",
       "      <th>VIF</th>\n",
       "    </tr>\n",
       "  </thead>\n",
       "  <tbody>\n",
       "    <tr>\n",
       "      <th>20</th>\n",
       "      <td>constant capital / total assets</td>\n",
       "      <td>33.915001</td>\n",
       "    </tr>\n",
       "    <tr>\n",
       "      <th>15</th>\n",
       "      <td>logarithm of total assets</td>\n",
       "      <td>32.537066</td>\n",
       "    </tr>\n",
       "    <tr>\n",
       "      <th>5</th>\n",
       "      <td>equity / total assets</td>\n",
       "      <td>19.856251</td>\n",
       "    </tr>\n",
       "    <tr>\n",
       "      <th>27</th>\n",
       "      <td>total costs /total sales</td>\n",
       "      <td>19.677767</td>\n",
       "    </tr>\n",
       "    <tr>\n",
       "      <th>1</th>\n",
       "      <td>short-term liabilities / total assets</td>\n",
       "      <td>14.498574</td>\n",
       "    </tr>\n",
       "  </tbody>\n",
       "</table>\n",
       "</div>"
      ],
      "text/plain": [
       "                                variables        VIF\n",
       "20        constant capital / total assets  33.915001\n",
       "15              logarithm of total assets  32.537066\n",
       "5                   equity / total assets  19.856251\n",
       "27               total costs /total sales  19.677767\n",
       "1   short-term liabilities / total assets  14.498574"
      ]
     },
     "execution_count": 13,
     "metadata": {},
     "output_type": "execute_result"
    }
   ],
   "source": [
    "calc_vif(X_z_no[X_z_no.columns[sf_0]]).head(5)"
   ]
  },
  {
   "cell_type": "code",
   "execution_count": 14,
   "id": "color-least",
   "metadata": {
    "execution": {
     "iopub.execute_input": "2021-04-04T18:30:43.988947Z",
     "iopub.status.busy": "2021-04-04T18:30:43.987935Z",
     "iopub.status.idle": "2021-04-04T18:30:43.992709Z",
     "shell.execute_reply": "2021-04-04T18:30:43.992246Z"
    },
    "id": "gI1WwYWZ3lAc",
    "outputId": "397dc494-3462-44c9-c246-823144b2dca8",
    "papermill": {
     "duration": 0.072646,
     "end_time": "2021-04-04T18:30:43.992847",
     "exception": false,
     "start_time": "2021-04-04T18:30:43.920201",
     "status": "completed"
    },
    "tags": []
   },
   "outputs": [
    {
     "data": {
      "text/plain": [
       "Index(['EBIT / total assets', 'short-term liabilities / total assets',\n",
       "       'current assets / short-term liabilities',\n",
       "       '(current assets - inventory - receivables) / short-term liabilities',\n",
       "       'retained earnings / total assets', 'equity / total assets',\n",
       "       'total sales / total assets',\n",
       "       '(gross profit + depreciation) / total liabilities',\n",
       "       'gross profit / sales',\n",
       "       'total liabilities / ((profit on operating activities + depreciation) * (12/365))',\n",
       "       '(inventory * 365) / cost of products sold',\n",
       "       'profit on sales / total assets',\n",
       "       'gross profit (in 3 years) / total assets',\n",
       "       '(equity - share capital) / total assets', 'equity / fixed assets',\n",
       "       'logarithm of total assets', '(total liabilities - cash) / sales',\n",
       "       '(short-term liabilities * 365) / cost of products sold)',\n",
       "       'sales / short-term liabilities',\n",
       "       'operating expenses / total liabilities',\n",
       "       'profit on operating activities / sales',\n",
       "       'rotation receivables + inventory turnover in days',\n",
       "       '(receivables * 365) / sales', 'working capital',\n",
       "       '(sales - cost of products sold) / sales',\n",
       "       '(current assets - inventory - short-term liabilities) / (sales - gross profit - depreciation)',\n",
       "       'total costs /total sales', 'long-term liabilities / equity',\n",
       "       'sales / receivables', 'sales / fixed assets',\n",
       "       'working capital / total assets'],\n",
       "      dtype='object')"
      ]
     },
     "execution_count": 14,
     "metadata": {},
     "output_type": "execute_result"
    }
   ],
   "source": [
    "# Final Features\n",
    "X_final = X_z_no[X_z_no.columns[sf_0]].drop(columns = 'constant capital / total assets')\n",
    "X_final['working capital / total assets'] = X_z_no['working capital / total assets']\n",
    "X_final.columns"
   ]
  },
  {
   "cell_type": "code",
   "execution_count": 15,
   "id": "level-assurance",
   "metadata": {
    "execution": {
     "iopub.execute_input": "2021-04-04T18:30:44.089320Z",
     "iopub.status.busy": "2021-04-04T18:30:44.088697Z",
     "iopub.status.idle": "2021-04-04T18:30:44.360280Z",
     "shell.execute_reply": "2021-04-04T18:30:44.359744Z"
    },
    "id": "nry0D2hdpB9v",
    "papermill": {
     "duration": 0.321084,
     "end_time": "2021-04-04T18:30:44.360428",
     "exception": false,
     "start_time": "2021-04-04T18:30:44.039344",
     "status": "completed"
    },
    "tags": []
   },
   "outputs": [],
   "source": [
    "# Writing final dataframe to a new csv for convenience\n",
    "# New file has no N/A and only has subset of features\n",
    "pd.concat( [X_final, y_z_no] , axis = 1).to_csv(\"polish_3y_cleaned.csv\")"
   ]
  },
  {
   "cell_type": "markdown",
   "id": "regulation-junior",
   "metadata": {
    "id": "Ds7O1GPv3wPx",
    "papermill": {
     "duration": 0.045346,
     "end_time": "2021-04-04T18:30:44.451296",
     "exception": false,
     "start_time": "2021-04-04T18:30:44.405950",
     "status": "completed"
    },
    "tags": []
   },
   "source": [
    "## Model Fitting"
   ]
  },
  {
   "cell_type": "code",
   "execution_count": 16,
   "id": "lovely-celtic",
   "metadata": {
    "execution": {
     "iopub.execute_input": "2021-04-04T18:30:44.549703Z",
     "iopub.status.busy": "2021-04-04T18:30:44.549102Z",
     "iopub.status.idle": "2021-04-04T18:30:44.638682Z",
     "shell.execute_reply": "2021-04-04T18:30:44.639137Z"
    },
    "id": "ftMY0dsQphaD",
    "outputId": "c4a57957-0186-42bd-a4df-b9ca71bc587f",
    "papermill": {
     "duration": 0.141214,
     "end_time": "2021-04-04T18:30:44.639313",
     "exception": false,
     "start_time": "2021-04-04T18:30:44.498099",
     "status": "completed"
    },
    "tags": []
   },
   "outputs": [
    {
     "name": "stdout",
     "output_type": "stream",
     "text": [
      "Full:  9480 Train:  7584 Test:  1896\n"
     ]
    }
   ],
   "source": [
    "data_final = pd.read_csv(\"../input/stat543/polish_3y_cleaned.csv\")\n",
    "X_final = data_final.drop(columns=[\"class\",\"Unnamed: 0\"])\n",
    "y_final = data_final[\"class\"]\n",
    "test_size = 0.2\n",
    "random_state = 0\n",
    "\n",
    "# Startified Train test Split\n",
    "X_train, X_test, y_train, y_test = train_test_split(X_final, y_final, \n",
    "                                                    test_size=test_size, \n",
    "                                                    random_state= random_state,\n",
    "                                                    stratify = y_final)\n",
    "print(\"Full: \", X_final.shape[0], \"Train: \", X_train.shape[0], \"Test: \", X_test.shape[0])"
   ]
  },
  {
   "cell_type": "code",
   "execution_count": null,
   "id": "funny-danish",
   "metadata": {
    "id": "r6mJ2WOwGJpH",
    "papermill": {
     "duration": 0.045794,
     "end_time": "2021-04-04T18:30:44.731232",
     "exception": false,
     "start_time": "2021-04-04T18:30:44.685438",
     "status": "completed"
    },
    "tags": []
   },
   "outputs": [],
   "source": []
  },
  {
   "cell_type": "markdown",
   "id": "compatible-taylor",
   "metadata": {
    "id": "OFqiSoavphps",
    "papermill": {
     "duration": 0.045737,
     "end_time": "2021-04-04T18:30:44.822703",
     "exception": false,
     "start_time": "2021-04-04T18:30:44.776966",
     "status": "completed"
    },
    "tags": []
   },
   "source": [
    "### Tackling Imbalanced Sample"
   ]
  },
  {
   "cell_type": "code",
   "execution_count": 17,
   "id": "moving-british",
   "metadata": {
    "execution": {
     "iopub.execute_input": "2021-04-04T18:30:44.924762Z",
     "iopub.status.busy": "2021-04-04T18:30:44.923761Z",
     "iopub.status.idle": "2021-04-04T18:30:44.986850Z",
     "shell.execute_reply": "2021-04-04T18:30:44.987840Z"
    },
    "id": "dXQ-jkgg8HiO",
    "outputId": "03e3a989-190b-437b-f644-7d0863f75822",
    "papermill": {
     "duration": 0.117936,
     "end_time": "2021-04-04T18:30:44.988141",
     "exception": false,
     "start_time": "2021-04-04T18:30:44.870205",
     "status": "completed"
    },
    "tags": []
   },
   "outputs": [
    {
     "name": "stdout",
     "output_type": "stream",
     "text": [
      "Original Sample:  Counter({0: 7218, 1: 366})\n",
      "Transformed Sample:  Counter({0: 2886, 1: 1443})\n"
     ]
    }
   ],
   "source": [
    "#Oversample minority so that % of minority equals specified val\n",
    "min_perc = 0.2\n",
    "over = imblearn.over_sampling.SMOTE(sampling_strategy = min_perc\n",
    "                                              , random_state=random_state)\n",
    "\n",
    "#Undersample majority so that majority exceeds minority by specified val\n",
    "maj_perc = 0.5\n",
    "under = imblearn.under_sampling.RandomUnderSampler(sampling_strategy=maj_perc\n",
    "                                                   , random_state=random_state)\n",
    "\n",
    "# Over + Under Pipeline\n",
    "steps = [('o', over), \n",
    "         ('u', under)]\n",
    "smote_pipeline = imblearn.pipeline.Pipeline(steps = steps)\n",
    "X_transform, y_transform = smote_pipeline.fit_resample(X_train, y_train)\n",
    "\n",
    "print(\"Original Sample: \", Counter(y_train))\n",
    "print(\"Transformed Sample: \", Counter(y_transform))"
   ]
  },
  {
   "cell_type": "code",
   "execution_count": 18,
   "id": "historic-loading",
   "metadata": {
    "execution": {
     "iopub.execute_input": "2021-04-04T18:30:45.130433Z",
     "iopub.status.busy": "2021-04-04T18:30:45.128301Z",
     "iopub.status.idle": "2021-04-04T18:30:45.682962Z",
     "shell.execute_reply": "2021-04-04T18:30:45.683524Z"
    },
    "id": "Yz20wBgH8ga4",
    "outputId": "093e9331-db9a-44a4-de01-883d3c56e2e7",
    "papermill": {
     "duration": 0.608991,
     "end_time": "2021-04-04T18:30:45.683689",
     "exception": false,
     "start_time": "2021-04-04T18:30:45.074698",
     "status": "completed"
    },
    "tags": []
   },
   "outputs": [
    {
     "data": {
      "image/png": "[encoded data removed]",
      "text/plain": [
       "<Figure size 432x288 with 1 Axes>"
      ]
     },
     "metadata": {
      "needs_background": "light"
     },
     "output_type": "display_data"
    },
    {
     "data": {
      "image/png": "[encoded data removed]",
      "text/plain": [
       "<Figure size 432x288 with 1 Axes>"
      ]
     },
     "metadata": {
      "needs_background": "light"
     },
     "output_type": "display_data"
    },
    {
     "data": {
      "text/plain": [
       "(None, None)"
      ]
     },
     "execution_count": 18,
     "metadata": {},
     "output_type": "execute_result"
    }
   ],
   "source": [
    "def example_plot(X,y):\n",
    "    plt.scatter( y = X[y == 0][\"current assets / short-term liabilities\"], x= X[y == 0][\"retained earnings / total assets\"],label=\"Not Bankrupt\")\n",
    "    plt.scatter( y = X[y == 1][\"current assets / short-term liabilities\"], x =X[y == 1][\"retained earnings / total assets\"], label=\"Bankrupt\")\n",
    "    plt.legend()\n",
    "    plt.show()\n",
    "#Plot Transformed Sample\n",
    "example_plot(X_train,y_train), example_plot(X_transform, y_transform)"
   ]
  },
  {
   "cell_type": "markdown",
   "id": "differential-backup",
   "metadata": {
    "id": "ngFhQCu0CHwI",
    "papermill": {
     "duration": 0.059583,
     "end_time": "2021-04-04T18:30:45.791530",
     "exception": false,
     "start_time": "2021-04-04T18:30:45.731947",
     "status": "completed"
    },
    "tags": []
   },
   "source": [
    "## Comparing Techniques"
   ]
  },
  {
   "cell_type": "code",
   "execution_count": 19,
   "id": "mediterranean-senior",
   "metadata": {
    "execution": {
     "iopub.execute_input": "2021-04-04T18:30:45.907465Z",
     "iopub.status.busy": "2021-04-04T18:30:45.906385Z",
     "iopub.status.idle": "2021-04-04T18:30:45.909657Z",
     "shell.execute_reply": "2021-04-04T18:30:45.909046Z"
    },
    "id": "vV9tFdv0CuxW",
    "papermill": {
     "duration": 0.060361,
     "end_time": "2021-04-04T18:30:45.909797",
     "exception": false,
     "start_time": "2021-04-04T18:30:45.849436",
     "status": "completed"
    },
    "tags": []
   },
   "outputs": [],
   "source": [
    "def display_results(results,  model_names, selector_names):\n",
    "    mean_accuracy = []\n",
    "    std_accuracy = []\n",
    "    mean_recall = []\n",
    "    std_recall = []\n",
    "    mean_roc_auc = []\n",
    "    std_roc_auc = []\n",
    "\n",
    "\n",
    "    for res in results:\n",
    "        mean_accuracy.append(res[\"test_accuracy\"].mean())\n",
    "        std_accuracy.append(res[\"test_accuracy\"].std())\n",
    "        mean_recall.append(res[\"test_recall\"].mean())\n",
    "        std_recall.append(res[\"test_recall\"].std())\n",
    "        mean_roc_auc.append(res[\"test_roc_auc\"].mean())\n",
    "        std_roc_auc.append(res[\"test_roc_auc\"].std())\n",
    "\n",
    "    scores =  pd.DataFrame(data ={\"Method\": model_names, \n",
    "                        \"Mean Accuracy\": mean_accuracy,\n",
    "                         \"Stdev. Accuracy\": std_accuracy,\n",
    "                        \"Mean Recall\": mean_recall, \n",
    "                        \"Stdev. Recall\": std_recall,\n",
    "                        \"Mean ROC AUC\": mean_roc_auc, \n",
    "                        \"Stdev. ROC AUC\": std_roc_auc,\n",
    "                        } )\n",
    "    if len(selector_names) != 0:\n",
    "        scores[\"Selector\"] = selector_names\n",
    "\n",
    "    # Mean and Standard Deviation of CV. Red is minimum, Yellow is maximum \n",
    "    return scores.sort_values([\"Mean Accuracy\", \"Mean Recall\"],\n",
    "                    ascending = False).style.highlight_max(color= \"yellow\")\n",
    "                    #.highlight_min( color=\"coral\")\n",
    "    "
   ]
  },
  {
   "cell_type": "code",
   "execution_count": 20,
   "id": "listed-fancy",
   "metadata": {
    "execution": {
     "iopub.execute_input": "2021-04-04T18:30:46.021252Z",
     "iopub.status.busy": "2021-04-04T18:30:46.020556Z",
     "iopub.status.idle": "2021-04-04T18:30:58.603843Z",
     "shell.execute_reply": "2021-04-04T18:30:58.604278Z"
    },
    "id": "3uzOqz1vCMW2",
    "outputId": "c448a0b1-649a-454e-c62b-05d1c87b8be9",
    "papermill": {
     "duration": 12.645243,
     "end_time": "2021-04-04T18:30:58.604449",
     "exception": false,
     "start_time": "2021-04-04T18:30:45.959206",
     "status": "completed"
    },
    "tags": []
   },
   "outputs": [
    {
     "data": {
      "text/html": [
       "<style  type=\"text/css\" >\n",
       "#T_ee238_row0_col1,#T_ee238_row0_col5,#T_ee238_row5_col2,#T_ee238_row5_col3,#T_ee238_row5_col4,#T_ee238_row5_col6{\n",
       "            background-color:  yellow;\n",
       "        }</style><table id=\"T_ee238_\" ><thead>    <tr>        <th class=\"blank level0\" ></th>        <th class=\"col_heading level0 col0\" >Method</th>        <th class=\"col_heading level0 col1\" >Mean Accuracy</th>        <th class=\"col_heading level0 col2\" >Stdev. Accuracy</th>        <th class=\"col_heading level0 col3\" >Mean Recall</th>        <th class=\"col_heading level0 col4\" >Stdev. Recall</th>        <th class=\"col_heading level0 col5\" >Mean ROC AUC</th>        <th class=\"col_heading level0 col6\" >Stdev. ROC AUC</th>    </tr></thead><tbody>\n",
       "                <tr>\n",
       "                        <th id=\"T_ee238_level0_row0\" class=\"row_heading level0 row0\" >5</th>\n",
       "                        <td id=\"T_ee238_row0_col0\" class=\"data row0 col0\" >RF</td>\n",
       "                        <td id=\"T_ee238_row0_col1\" class=\"data row0 col1\" >0.914953</td>\n",
       "                        <td id=\"T_ee238_row0_col2\" class=\"data row0 col2\" >0.005587</td>\n",
       "                        <td id=\"T_ee238_row0_col3\" class=\"data row0 col3\" >0.232395</td>\n",
       "                        <td id=\"T_ee238_row0_col4\" class=\"data row0 col4\" >0.037480</td>\n",
       "                        <td id=\"T_ee238_row0_col5\" class=\"data row0 col5\" >0.775534</td>\n",
       "                        <td id=\"T_ee238_row0_col6\" class=\"data row0 col6\" >0.024294</td>\n",
       "            </tr>\n",
       "            <tr>\n",
       "                        <th id=\"T_ee238_level0_row1\" class=\"row_heading level0 row1\" >1</th>\n",
       "                        <td id=\"T_ee238_row1_col0\" class=\"data row1 col0\" >LDA</td>\n",
       "                        <td id=\"T_ee238_row1_col1\" class=\"data row1 col1\" >0.881198</td>\n",
       "                        <td id=\"T_ee238_row1_col2\" class=\"data row1 col2\" >0.010690</td>\n",
       "                        <td id=\"T_ee238_row1_col3\" class=\"data row1 col3\" >0.210330</td>\n",
       "                        <td id=\"T_ee238_row1_col4\" class=\"data row1 col4\" >0.042667</td>\n",
       "                        <td id=\"T_ee238_row1_col5\" class=\"data row1 col5\" >0.721129</td>\n",
       "                        <td id=\"T_ee238_row1_col6\" class=\"data row1 col6\" >0.026743</td>\n",
       "            </tr>\n",
       "            <tr>\n",
       "                        <th id=\"T_ee238_level0_row2\" class=\"row_heading level0 row2\" >0</th>\n",
       "                        <td id=\"T_ee238_row2_col0\" class=\"data row2 col0\" >LR</td>\n",
       "                        <td id=\"T_ee238_row2_col1\" class=\"data row2 col1\" >0.867748</td>\n",
       "                        <td id=\"T_ee238_row2_col2\" class=\"data row2 col2\" >0.008450</td>\n",
       "                        <td id=\"T_ee238_row2_col3\" class=\"data row2 col3\" >0.245909</td>\n",
       "                        <td id=\"T_ee238_row2_col4\" class=\"data row2 col4\" >0.039725</td>\n",
       "                        <td id=\"T_ee238_row2_col5\" class=\"data row2 col5\" >0.721443</td>\n",
       "                        <td id=\"T_ee238_row2_col6\" class=\"data row2 col6\" >0.024137</td>\n",
       "            </tr>\n",
       "            <tr>\n",
       "                        <th id=\"T_ee238_level0_row3\" class=\"row_heading level0 row3\" >4</th>\n",
       "                        <td id=\"T_ee238_row3_col0\" class=\"data row3 col0\" >CART</td>\n",
       "                        <td id=\"T_ee238_row3_col1\" class=\"data row3 col1\" >0.821338</td>\n",
       "                        <td id=\"T_ee238_row3_col2\" class=\"data row3 col2\" >0.014982</td>\n",
       "                        <td id=\"T_ee238_row3_col3\" class=\"data row3 col3\" >0.314217</td>\n",
       "                        <td id=\"T_ee238_row3_col4\" class=\"data row3 col4\" >0.039739</td>\n",
       "                        <td id=\"T_ee238_row3_col5\" class=\"data row3 col5\" >0.580635</td>\n",
       "                        <td id=\"T_ee238_row3_col6\" class=\"data row3 col6\" >0.021689</td>\n",
       "            </tr>\n",
       "            <tr>\n",
       "                        <th id=\"T_ee238_level0_row4\" class=\"row_heading level0 row4\" >3</th>\n",
       "                        <td id=\"T_ee238_row4_col0\" class=\"data row4 col0\" >KNN</td>\n",
       "                        <td id=\"T_ee238_row4_col1\" class=\"data row4 col1\" >0.772812</td>\n",
       "                        <td id=\"T_ee238_row4_col2\" class=\"data row4 col2\" >0.011169</td>\n",
       "                        <td id=\"T_ee238_row4_col3\" class=\"data row4 col3\" >0.409885</td>\n",
       "                        <td id=\"T_ee238_row4_col4\" class=\"data row4 col4\" >0.072721</td>\n",
       "                        <td id=\"T_ee238_row4_col5\" class=\"data row4 col5\" >0.664711</td>\n",
       "                        <td id=\"T_ee238_row4_col6\" class=\"data row4 col6\" >0.020351</td>\n",
       "            </tr>\n",
       "            <tr>\n",
       "                        <th id=\"T_ee238_level0_row5\" class=\"row_heading level0 row5\" >2</th>\n",
       "                        <td id=\"T_ee238_row5_col0\" class=\"data row5 col0\" >NB</td>\n",
       "                        <td id=\"T_ee238_row5_col1\" class=\"data row5 col1\" >0.265416</td>\n",
       "                        <td id=\"T_ee238_row5_col2\" class=\"data row5 col2\" >0.090327</td>\n",
       "                        <td id=\"T_ee238_row5_col3\" class=\"data row5 col3\" >0.847094</td>\n",
       "                        <td id=\"T_ee238_row5_col4\" class=\"data row5 col4\" >0.077918</td>\n",
       "                        <td id=\"T_ee238_row5_col5\" class=\"data row5 col5\" >0.665434</td>\n",
       "                        <td id=\"T_ee238_row5_col6\" class=\"data row5 col6\" >0.050860</td>\n",
       "            </tr>\n",
       "    </tbody></table>"
      ],
      "text/plain": [
       "<pandas.io.formats.style.Styler at 0x7f1e3d4ddd50>"
      ]
     },
     "execution_count": 20,
     "metadata": {},
     "output_type": "execute_result"
    }
   ],
   "source": [
    "\"\"\"\n",
    "Compare Models with No Tuning\n",
    "\"\"\"\n",
    "\n",
    "#Oversample minority so that % of minority equals specified val\n",
    "min_perc = 0.2\n",
    "over = imblearn.over_sampling.SMOTE(sampling_strategy= min_perc\n",
    "                                    , random_state=random_state)\n",
    "\n",
    "#Undersample majority so that majority exceeds minority by specified val\n",
    "maj_perc = 0.5\n",
    "under = imblearn.under_sampling.RandomUnderSampler(sampling_strategy=maj_perc\n",
    "                                                   , random_state=random_state)\n",
    "\n",
    "# Set up models\n",
    "models = []\n",
    "\n",
    "# Classifiers\n",
    "logit_reg = LogisticRegression(solver='liblinear') #, multi_class='ovr'\n",
    "lda =  LinearDiscriminantAnalysis()\n",
    "nb = GaussianNB()\n",
    "knn = KNeighborsClassifier()\n",
    "dec_tree =  DecisionTreeClassifier(random_state = random_state)\n",
    "rfc = RandomForestClassifier(random_state = random_state)\n",
    "\n",
    "models.append(('LR', logit_reg))\n",
    "models.append(('LDA', lda))\n",
    "models.append(('NB', nb))\n",
    "models.append(('KNN', knn))\n",
    "models.append(('CART', dec_tree))\n",
    "models.append(('RF', rfc))\n",
    "\n",
    "model_names = []\n",
    "selector_names = []\n",
    "results = []\n",
    "\n",
    "kfold = StratifiedKFold(n_splits=5, random_state=random_state, shuffle=True)\n",
    "\n",
    "for model_name, model in models:\n",
    "    steps = [('scale', StandardScaler()),\n",
    "                ('over', over),  \n",
    "                ('under', under),\n",
    "                ('model', model)]\n",
    "    clf = imblearn.pipeline.Pipeline(steps = steps)\n",
    "    cv_results = cross_validate(clf, X_train, y_train, cv=kfold,\n",
    "                                scoring= [\"accuracy\",\"recall\",\"roc_auc\"],\n",
    "                                return_estimator = False)\n",
    "    model_names.append(model_name)\n",
    "    results.append(cv_results)\n",
    "display_results(results, model_names, [])"
   ]
  },
  {
   "cell_type": "code",
   "execution_count": 21,
   "id": "important-capital",
   "metadata": {
    "execution": {
     "iopub.execute_input": "2021-04-04T18:30:58.739672Z",
     "iopub.status.busy": "2021-04-04T18:30:58.739055Z",
     "iopub.status.idle": "2021-04-04T18:31:02.363357Z",
     "shell.execute_reply": "2021-04-04T18:31:02.363768Z"
    },
    "id": "0hnTkhDWm9bg",
    "outputId": "6fa48c7d-ebfa-4d51-8e96-cb122bd6d9de",
    "papermill": {
     "duration": 3.710923,
     "end_time": "2021-04-04T18:31:02.363940",
     "exception": false,
     "start_time": "2021-04-04T18:30:58.653017",
     "status": "completed"
    },
    "tags": []
   },
   "outputs": [
    {
     "data": {
      "image/png": "[encoded data removed]",
      "text/plain": [
       "<Figure size 1152x576 with 2 Axes>"
      ]
     },
     "metadata": {
      "needs_background": "light"
     },
     "output_type": "display_data"
    }
   ],
   "source": [
    "# Examin ROC and Precision Recall curves\n",
    "# Reference: https://scikit-learn.org/stable/auto_examples/model_selection/plot_det.html#sphx-glr-auto-examples-model-selection-plot-det-py\n",
    "fig, [ax_roc, ax_pr] = plt.subplots(1, 2, figsize=(16, 8))\n",
    "\n",
    "for model_name, model in models:\n",
    "    steps = [('scale', StandardScaler()),\n",
    "                ('over', over),  \n",
    "                ('under', under),\n",
    "                ('model', model)]\n",
    "    clf = imblearn.pipeline.Pipeline(steps = steps)\n",
    "    clf.fit(X_train, y_train)\n",
    "\n",
    "    metrics.plot_roc_curve(clf, X_test, y_test, ax=ax_roc, name= model_name)\n",
    "    metrics.plot_precision_recall_curve(clf, X_test, y_test, ax=ax_pr, name= model_name)\n",
    "\n",
    "ax_roc.set_title('Receiver Operating Characteristic (ROC) curves')\n",
    "ax_pr.set_title('Precision Recall curves')\n",
    "\n",
    "ax_roc.grid(linestyle='--')\n",
    "ax_pr.grid(linestyle='--')\n",
    "\n",
    "plt.legend()\n",
    "plt.show()"
   ]
  },
  {
   "cell_type": "markdown",
   "id": "aging-jordan",
   "metadata": {
    "id": "6tJrpobWo5Z2",
    "papermill": {
     "duration": 0.051452,
     "end_time": "2021-04-04T18:31:02.467603",
     "exception": false,
     "start_time": "2021-04-04T18:31:02.416151",
     "status": "completed"
    },
    "tags": []
   },
   "source": [
    "### Model Tuning"
   ]
  },
  {
   "cell_type": "markdown",
   "id": "built-genesis",
   "metadata": {
    "id": "cBInXl7e3glc",
    "papermill": {
     "duration": 0.051567,
     "end_time": "2021-04-04T18:31:02.572086",
     "exception": false,
     "start_time": "2021-04-04T18:31:02.520519",
     "status": "completed"
    },
    "tags": []
   },
   "source": [
    "#### Fitting a Single Random Forests Classifer"
   ]
  },
  {
   "cell_type": "code",
   "execution_count": 22,
   "id": "billion-finger",
   "metadata": {
    "execution": {
     "iopub.execute_input": "2021-04-04T18:31:02.679551Z",
     "iopub.status.busy": "2021-04-04T18:31:02.678939Z",
     "iopub.status.idle": "2021-04-04T18:31:04.690590Z",
     "shell.execute_reply": "2021-04-04T18:31:04.689848Z"
    },
    "id": "CRbSczuaqz_2",
    "outputId": "b40d230a-b821-4bfd-a132-075aab2db3ba",
    "papermill": {
     "duration": 2.066526,
     "end_time": "2021-04-04T18:31:04.690742",
     "exception": false,
     "start_time": "2021-04-04T18:31:02.624216",
     "status": "completed"
    },
    "tags": []
   },
   "outputs": [
    {
     "name": "stdout",
     "output_type": "stream",
     "text": [
      "              precision    recall  f1-score   support\n",
      "\n",
      "Not-Bankrupt       0.96      0.95      0.95      1804\n",
      "    Bankrupt       0.17      0.22      0.19        92\n",
      "\n",
      "    accuracy                           0.91      1896\n",
      "   macro avg       0.56      0.58      0.57      1896\n",
      "weighted avg       0.92      0.91      0.92      1896\n",
      "\n"
     ]
    }
   ],
   "source": [
    "min_perc = 0.2\n",
    "over = imblearn.over_sampling.SMOTE(sampling_strategy= min_perc\n",
    "                                    , random_state=random_state)\n",
    "\n",
    "maj_perc = 0.5\n",
    "under = imblearn.under_sampling.RandomUnderSampler(sampling_strategy=maj_perc\n",
    "                                                   , random_state=random_state)\n",
    "\n",
    "model = RandomForestClassifier(random_state= random_state)\n",
    "\n",
    "# sc = StandardScaler()\n",
    "\n",
    "# X_train_tf = sc.fit_transform(X_train)\n",
    "# X_test_tf = sc.transform(X_test)\n",
    "\n",
    "steps = [('over', over),  \n",
    "        ('under', under),\n",
    "        ('model', model)]\n",
    "\n",
    "clf = imblearn.pipeline.Pipeline(steps = steps)\n",
    "\n",
    "clf.fit(X_train, y_train)\n",
    "\n",
    "y_test_pred = clf.predict(X_test)\n",
    "print(metrics.classification_report(y_test, y_test_pred, target_names=[\"Not-Bankrupt\",\"Bankrupt\"]))"
   ]
  },
  {
   "cell_type": "code",
   "execution_count": 23,
   "id": "velvet-neighbor",
   "metadata": {
    "execution": {
     "iopub.execute_input": "2021-04-04T18:31:04.805870Z",
     "iopub.status.busy": "2021-04-04T18:31:04.805273Z",
     "iopub.status.idle": "2021-04-04T18:31:05.091553Z",
     "shell.execute_reply": "2021-04-04T18:31:05.090938Z"
    },
    "id": "u8lSJ_Tc4VWJ",
    "outputId": "7f7109b5-ba15-4d4c-92d8-1df1327e5d6f",
    "papermill": {
     "duration": 0.346587,
     "end_time": "2021-04-04T18:31:05.091686",
     "exception": false,
     "start_time": "2021-04-04T18:31:04.745099",
     "status": "completed"
    },
    "tags": []
   },
   "outputs": [
    {
     "name": "stdout",
     "output_type": "stream",
     "text": [
      "Feature ranking:\n",
      "1. feature (gross profit + depreciation) / total liabilities (0.069941)\n",
      "2. feature gross profit (in 3 years) / total assets (0.067595)\n",
      "3. feature retained earnings / total assets (0.052712)\n",
      "4. feature (equity - share capital) / total assets (0.044194)\n",
      "5. feature profit on operating activities / sales (0.044015)\n",
      "6. feature total liabilities / ((profit on operating activities + depreciation) * (12/365)) (0.042088)\n",
      "7. feature gross profit / sales (0.039311)\n",
      "8. feature profit on sales / total assets (0.036090)\n",
      "9. feature sales / fixed assets (0.034827)\n",
      "10. feature short-term liabilities / total assets (0.032763)\n"
     ]
    },
    {
     "data": {
      "image/png": "[encoded data removed]",
      "text/plain": [
       "<Figure size 432x288 with 1 Axes>"
      ]
     },
     "metadata": {
      "needs_background": "light"
     },
     "output_type": "display_data"
    }
   ],
   "source": [
    "# Visualizing Feature Importance\n",
    "forest = clf.named_steps[\"model\"]\n",
    "importances = forest.feature_importances_\n",
    "std = np.std([tree.feature_importances_ for tree in forest.estimators_],\n",
    "             axis=0)\n",
    "indices = np.argsort(importances)[::-1]\n",
    "\n",
    "# Print the feature ranking\n",
    "print(\"Feature ranking:\")\n",
    "\n",
    "for f in range(10):\n",
    "    print(\"%d. feature %s (%f)\" % (f + 1, X_train.columns[indices[f]], importances[indices[f]]))\n",
    "\n",
    "# Plot the impurity-based feature importances of the forest\n",
    "plt.figure()\n",
    "plt.title(\"Feature importances\")\n",
    "plt.bar(range(X_train.shape[1]), importances[indices],\n",
    "        color=\"r\", yerr=std[indices], align=\"center\")\n",
    "plt.xticks(range(X_train.shape[1]), indices)\n",
    "plt.xlim([-1, X_train.shape[1]])\n",
    "plt.show()"
   ]
  },
  {
   "cell_type": "code",
   "execution_count": 24,
   "id": "varied-headline",
   "metadata": {
    "execution": {
     "iopub.execute_input": "2021-04-04T18:31:05.206757Z",
     "iopub.status.busy": "2021-04-04T18:31:05.205718Z",
     "iopub.status.idle": "2021-04-04T18:31:05.213945Z",
     "shell.execute_reply": "2021-04-04T18:31:05.213492Z"
    },
    "id": "a2Z2hpDXXTGZ",
    "outputId": "6949c3b2-81ba-45df-817d-b4289480ec3c",
    "papermill": {
     "duration": 0.067864,
     "end_time": "2021-04-04T18:31:05.214109",
     "exception": false,
     "start_time": "2021-04-04T18:31:05.146245",
     "status": "completed"
    },
    "tags": []
   },
   "outputs": [
    {
     "name": "stdout",
     "output_type": "stream",
     "text": [
      "max_depth:\n",
      "Max: 25      Min: 17     Avg: 20\n",
      "n_leaves:\n",
      "Max: 468      Min: 392     Avg: 433\n"
     ]
    }
   ],
   "source": [
    "# Obatain Fiting Results for Later tuning\n",
    "trial_max_depth = [estimator.tree_.max_depth for estimator in forest.estimators_]\n",
    "trial_n_leaves = [estimator.tree_.n_leaves for estimator in forest.estimators_]\n",
    "\n",
    "print(\"max_depth:\")\n",
    "print(\"Max: %d      Min: %d     Avg: %d\" % (max(trial_max_depth), min(trial_max_depth), np.mean(trial_max_depth) ) )\n",
    "print(\"n_leaves:\")\n",
    "print(\"Max: %d      Min: %d     Avg: %d\" % (max(trial_n_leaves), min(trial_n_leaves), np.mean(trial_n_leaves) ) )"
   ]
  },
  {
   "cell_type": "markdown",
   "id": "regulation-marsh",
   "metadata": {
    "id": "KrhW2fcF3xqw",
    "papermill": {
     "duration": 0.053613,
     "end_time": "2021-04-04T18:31:05.321217",
     "exception": false,
     "start_time": "2021-04-04T18:31:05.267604",
     "status": "completed"
    },
    "tags": []
   },
   "source": [
    "### Grid Search Cross Validation"
   ]
  },
  {
   "cell_type": "code",
   "execution_count": 25,
   "id": "packed-collector",
   "metadata": {
    "execution": {
     "iopub.execute_input": "2021-04-04T18:31:05.441492Z",
     "iopub.status.busy": "2021-04-04T18:31:05.440763Z",
     "iopub.status.idle": "2021-04-04T19:31:23.706823Z",
     "shell.execute_reply": "2021-04-04T19:31:23.707483Z"
    },
    "id": "1oK-6mme2sF2",
    "papermill": {
     "duration": 3618.332055,
     "end_time": "2021-04-04T19:31:23.707675",
     "exception": false,
     "start_time": "2021-04-04T18:31:05.375620",
     "status": "completed"
    },
    "tags": []
   },
   "outputs": [
    {
     "data": {
      "text/plain": [
       "GridSearchCV(cv=RepeatedStratifiedKFold(n_repeats=10, n_splits=10, random_state=0),\n",
       "             estimator=Pipeline(steps=[('over', SMOTE()),\n",
       "                                       ('under', RandomUnderSampler()),\n",
       "                                       ('model',\n",
       "                                        RandomForestClassifier(n_jobs=2,\n",
       "                                                               random_state=0))]),\n",
       "             n_jobs=4,\n",
       "             param_grid={'model__max_depth': [5, 15, 30],\n",
       "                         'model__min_samples_split': [2, 20, 50],\n",
       "                         'over__sampling_strategy': [0.1, 0.2, 0.3],\n",
       "                         'under__sampling_strategy': [0.5, 0.6, 0.9]},\n",
       "             scoring='recall')"
      ]
     },
     "execution_count": 25,
     "metadata": {},
     "output_type": "execute_result"
    }
   ],
   "source": [
    "#min_perc = 0.2\n",
    "over = imblearn.over_sampling.SMOTE()\n",
    "    #sampling_strategy= min_perc\n",
    "\n",
    "#maj_perc = 0.5\n",
    "under = imblearn.under_sampling.RandomUnderSampler()\n",
    "    #sampling_strategy=maj_perc)\n",
    "\n",
    "model = RandomForestClassifier(random_state=random_state,\n",
    "                               n_jobs = 2)\n",
    "\n",
    "steps = [('over', over),  \n",
    "        ('under', under),\n",
    "        ('model', model)]\n",
    "\n",
    "clf = imblearn.pipeline.Pipeline(steps = steps)\n",
    "\n",
    "param_grid = {\n",
    "    'over__sampling_strategy': [0.1, 0.2, 0.3],\n",
    "    'under__sampling_strategy': [0.5, 0.6, 0.9],\n",
    "    'model__max_depth': [5, 15, 30],\n",
    "    'model__min_samples_split': [2, 20, 50]\n",
    "    }\n",
    "\n",
    "kfold = RepeatedStratifiedKFold( n_splits=10, n_repeats=10, \n",
    "                                random_state=random_state)\n",
    "\n",
    "search = GridSearchCV(\n",
    "    estimator=clf, param_grid=param_grid,\n",
    "    scoring=\"recall\", cv= kfold,\n",
    "    n_jobs=4\n",
    ")\n",
    "\n",
    "search.fit(X_train, y_train)"
   ]
  },
  {
   "cell_type": "code",
   "execution_count": 26,
   "id": "solid-conspiracy",
   "metadata": {
    "execution": {
     "iopub.execute_input": "2021-04-04T19:31:23.831686Z",
     "iopub.status.busy": "2021-04-04T19:31:23.830783Z",
     "iopub.status.idle": "2021-04-04T19:31:23.852234Z",
     "shell.execute_reply": "2021-04-04T19:31:23.852742Z"
    },
    "id": "ZMCZ8mI05BPb",
    "outputId": "d1f56d96-0557-49d7-a934-fa4155d7fb2b",
    "papermill": {
     "duration": 0.089537,
     "end_time": "2021-04-04T19:31:23.852908",
     "exception": false,
     "start_time": "2021-04-04T19:31:23.763371",
     "status": "completed"
    },
    "tags": []
   },
   "outputs": [
    {
     "data": {
      "text/html": [
       "<div>\n",
       "<style scoped>\n",
       "    .dataframe tbody tr th:only-of-type {\n",
       "        vertical-align: middle;\n",
       "    }\n",
       "\n",
       "    .dataframe tbody tr th {\n",
       "        vertical-align: top;\n",
       "    }\n",
       "\n",
       "    .dataframe thead th {\n",
       "        text-align: right;\n",
       "    }\n",
       "</style>\n",
       "<table border=\"1\" class=\"dataframe\">\n",
       "  <thead>\n",
       "    <tr style=\"text-align: right;\">\n",
       "      <th></th>\n",
       "      <th>rank_test_score</th>\n",
       "      <th>mean_test_score</th>\n",
       "      <th>std_test_score</th>\n",
       "    </tr>\n",
       "    <tr>\n",
       "      <th>kernel</th>\n",
       "      <th></th>\n",
       "      <th></th>\n",
       "      <th></th>\n",
       "    </tr>\n",
       "  </thead>\n",
       "  <tbody>\n",
       "    <tr>\n",
       "      <th>5_50_0.1_0.9</th>\n",
       "      <td>1</td>\n",
       "      <td>0.696276</td>\n",
       "      <td>0.079986</td>\n",
       "    </tr>\n",
       "    <tr>\n",
       "      <th>5_2_0.1_0.9</th>\n",
       "      <td>2</td>\n",
       "      <td>0.692275</td>\n",
       "      <td>0.075473</td>\n",
       "    </tr>\n",
       "    <tr>\n",
       "      <th>5_20_0.1_0.9</th>\n",
       "      <td>3</td>\n",
       "      <td>0.690908</td>\n",
       "      <td>0.086841</td>\n",
       "    </tr>\n",
       "    <tr>\n",
       "      <th>5_50_0.2_0.9</th>\n",
       "      <td>4</td>\n",
       "      <td>0.674947</td>\n",
       "      <td>0.078038</td>\n",
       "    </tr>\n",
       "    <tr>\n",
       "      <th>30_50_0.1_0.9</th>\n",
       "      <td>5</td>\n",
       "      <td>0.673979</td>\n",
       "      <td>0.081687</td>\n",
       "    </tr>\n",
       "    <tr>\n",
       "      <th>5_20_0.2_0.9</th>\n",
       "      <td>6</td>\n",
       "      <td>0.668814</td>\n",
       "      <td>0.076377</td>\n",
       "    </tr>\n",
       "    <tr>\n",
       "      <th>5_2_0.2_0.9</th>\n",
       "      <td>7</td>\n",
       "      <td>0.667132</td>\n",
       "      <td>0.085394</td>\n",
       "    </tr>\n",
       "    <tr>\n",
       "      <th>15_50_0.1_0.9</th>\n",
       "      <td>8</td>\n",
       "      <td>0.666299</td>\n",
       "      <td>0.083943</td>\n",
       "    </tr>\n",
       "    <tr>\n",
       "      <th>5_50_0.3_0.9</th>\n",
       "      <td>9</td>\n",
       "      <td>0.662980</td>\n",
       "      <td>0.079465</td>\n",
       "    </tr>\n",
       "    <tr>\n",
       "      <th>5_20_0.3_0.9</th>\n",
       "      <td>10</td>\n",
       "      <td>0.660593</td>\n",
       "      <td>0.087309</td>\n",
       "    </tr>\n",
       "    <tr>\n",
       "      <th>5_2_0.3_0.9</th>\n",
       "      <td>11</td>\n",
       "      <td>0.652733</td>\n",
       "      <td>0.078482</td>\n",
       "    </tr>\n",
       "    <tr>\n",
       "      <th>30_20_0.1_0.9</th>\n",
       "      <td>12</td>\n",
       "      <td>0.647560</td>\n",
       "      <td>0.080610</td>\n",
       "    </tr>\n",
       "    <tr>\n",
       "      <th>15_20_0.1_0.9</th>\n",
       "      <td>13</td>\n",
       "      <td>0.640368</td>\n",
       "      <td>0.088063</td>\n",
       "    </tr>\n",
       "    <tr>\n",
       "      <th>15_2_0.1_0.9</th>\n",
       "      <td>14</td>\n",
       "      <td>0.623529</td>\n",
       "      <td>0.082898</td>\n",
       "    </tr>\n",
       "    <tr>\n",
       "      <th>30_2_0.1_0.9</th>\n",
       "      <td>15</td>\n",
       "      <td>0.602477</td>\n",
       "      <td>0.081256</td>\n",
       "    </tr>\n",
       "    <tr>\n",
       "      <th>15_50_0.2_0.9</th>\n",
       "      <td>16</td>\n",
       "      <td>0.596374</td>\n",
       "      <td>0.086672</td>\n",
       "    </tr>\n",
       "    <tr>\n",
       "      <th>30_50_0.2_0.9</th>\n",
       "      <td>17</td>\n",
       "      <td>0.595015</td>\n",
       "      <td>0.084986</td>\n",
       "    </tr>\n",
       "    <tr>\n",
       "      <th>15_20_0.2_0.9</th>\n",
       "      <td>18</td>\n",
       "      <td>0.543574</td>\n",
       "      <td>0.082037</td>\n",
       "    </tr>\n",
       "    <tr>\n",
       "      <th>5_20_0.1_0.6</th>\n",
       "      <td>19</td>\n",
       "      <td>0.529910</td>\n",
       "      <td>0.080449</td>\n",
       "    </tr>\n",
       "    <tr>\n",
       "      <th>5_50_0.1_0.6</th>\n",
       "      <td>20</td>\n",
       "      <td>0.529745</td>\n",
       "      <td>0.083147</td>\n",
       "    </tr>\n",
       "  </tbody>\n",
       "</table>\n",
       "</div>"
      ],
      "text/plain": [
       "               rank_test_score  mean_test_score  std_test_score\n",
       "kernel                                                         \n",
       "5_50_0.1_0.9                 1         0.696276        0.079986\n",
       "5_2_0.1_0.9                  2         0.692275        0.075473\n",
       "5_20_0.1_0.9                 3         0.690908        0.086841\n",
       "5_50_0.2_0.9                 4         0.674947        0.078038\n",
       "30_50_0.1_0.9                5         0.673979        0.081687\n",
       "5_20_0.2_0.9                 6         0.668814        0.076377\n",
       "5_2_0.2_0.9                  7         0.667132        0.085394\n",
       "15_50_0.1_0.9                8         0.666299        0.083943\n",
       "5_50_0.3_0.9                 9         0.662980        0.079465\n",
       "5_20_0.3_0.9                10         0.660593        0.087309\n",
       "5_2_0.3_0.9                 11         0.652733        0.078482\n",
       "30_20_0.1_0.9               12         0.647560        0.080610\n",
       "15_20_0.1_0.9               13         0.640368        0.088063\n",
       "15_2_0.1_0.9                14         0.623529        0.082898\n",
       "30_2_0.1_0.9                15         0.602477        0.081256\n",
       "15_50_0.2_0.9               16         0.596374        0.086672\n",
       "30_50_0.2_0.9               17         0.595015        0.084986\n",
       "15_20_0.2_0.9               18         0.543574        0.082037\n",
       "5_20_0.1_0.6                19         0.529910        0.080449\n",
       "5_50_0.1_0.6                20         0.529745        0.083147"
      ]
     },
     "execution_count": 26,
     "metadata": {},
     "output_type": "execute_result"
    }
   ],
   "source": [
    "# Show top Results based on Recall\n",
    "results_df = pd.DataFrame(search.cv_results_)\n",
    "results_df = results_df.sort_values(by=['rank_test_score'])\n",
    "results_df = (\n",
    "    results_df\n",
    "    .set_index(results_df[\"params\"].apply(\n",
    "        lambda x: \"_\".join(str(val) for val in x.values()))\n",
    "    )\n",
    "    .rename_axis('kernel')\n",
    ")\n",
    "results_df[\n",
    "    ['rank_test_score', 'mean_test_score', 'std_test_score']\n",
    "].head(20)"
   ]
  },
  {
   "cell_type": "markdown",
   "id": "opposed-symposium",
   "metadata": {
    "id": "wJdVp6xn39lW",
    "papermill": {
     "duration": 0.054677,
     "end_time": "2021-04-04T19:31:23.963834",
     "exception": false,
     "start_time": "2021-04-04T19:31:23.909157",
     "status": "completed"
    },
    "tags": []
   },
   "source": [
    "### Final Model"
   ]
  },
  {
   "cell_type": "code",
   "execution_count": 27,
   "id": "returning-allocation",
   "metadata": {
    "execution": {
     "iopub.execute_input": "2021-04-04T19:31:24.083058Z",
     "iopub.status.busy": "2021-04-04T19:31:24.082061Z",
     "iopub.status.idle": "2021-04-04T19:31:24.856834Z",
     "shell.execute_reply": "2021-04-04T19:31:24.856296Z"
    },
    "id": "lYK697ep32BA",
    "outputId": "1f19854f-6001-43f1-9431-db2764349c6a",
    "papermill": {
     "duration": 0.837819,
     "end_time": "2021-04-04T19:31:24.856968",
     "exception": false,
     "start_time": "2021-04-04T19:31:24.019149",
     "status": "completed"
    },
    "tags": []
   },
   "outputs": [
    {
     "name": "stdout",
     "output_type": "stream",
     "text": [
      "              precision    recall  f1-score   support\n",
      "\n",
      "Not-Bankrupt       0.97      0.73      0.83      1804\n",
      "    Bankrupt       0.10      0.60      0.17        92\n",
      "\n",
      "    accuracy                           0.72      1896\n",
      "   macro avg       0.54      0.66      0.50      1896\n",
      "weighted avg       0.93      0.72      0.80      1896\n",
      "\n"
     ]
    }
   ],
   "source": [
    "min_perc = 0.1\n",
    "over = imblearn.over_sampling.SMOTE(sampling_strategy= min_perc\n",
    "                                    , random_state=random_state)\n",
    "\n",
    "maj_perc = 0.9\n",
    "under = imblearn.under_sampling.RandomUnderSampler(sampling_strategy=maj_perc\n",
    "                                                   , random_state=random_state)\n",
    "\n",
    "model = RandomForestClassifier(max_depth =  5,\n",
    "                            min_samples_split = 50,\n",
    "                            min_impurity_decrease = 0,\n",
    "                            max_features = 10,\n",
    "                            random_state= random_state)\n",
    "\n",
    "steps = [('over', over),  \n",
    "        ('under', under),\n",
    "        ('model', model)]\n",
    "\n",
    "clf = imblearn.pipeline.Pipeline(steps = steps)\n",
    "\n",
    "clf.fit(X_train, y_train)\n",
    "\n",
    "y_test_pred = clf.predict(X_test)\n",
    "print(metrics.classification_report(y_test, y_test_pred, target_names=[\"Not-Bankrupt\",\"Bankrupt\"]))"
   ]
  },
  {
   "cell_type": "code",
   "execution_count": 28,
   "id": "handled-advice",
   "metadata": {
    "execution": {
     "iopub.execute_input": "2021-04-04T19:31:24.973682Z",
     "iopub.status.busy": "2021-04-04T19:31:24.972735Z",
     "iopub.status.idle": "2021-04-04T19:31:25.390299Z",
     "shell.execute_reply": "2021-04-04T19:31:25.390716Z"
    },
    "id": "85ag6cVD6fsm",
    "outputId": "0d11d1de-f967-4af8-e63e-dcc9348408a6",
    "papermill": {
     "duration": 0.477312,
     "end_time": "2021-04-04T19:31:25.390891",
     "exception": false,
     "start_time": "2021-04-04T19:31:24.913579",
     "status": "completed"
    },
    "tags": []
   },
   "outputs": [
    {
     "data": {
      "text/plain": [
       "<sklearn.metrics._plot.confusion_matrix.ConfusionMatrixDisplay at 0x7f1e8a009350>"
      ]
     },
     "execution_count": 28,
     "metadata": {},
     "output_type": "execute_result"
    },
    {
     "data": {
      "image/png": "[encoded data removed]",
      "text/plain": [
       "<Figure size 1152x576 with 4 Axes>"
      ]
     },
     "metadata": {
      "needs_background": "light"
     },
     "output_type": "display_data"
    }
   ],
   "source": [
    "fig, [ax_train, ax_test] = plt.subplots(1, 2, figsize=(16, 8))\n",
    "metrics.plot_confusion_matrix(clf, X_train, y_train, ax=ax_train)\n",
    "metrics.plot_confusion_matrix(clf, X_test, y_test, ax=ax_test)"
   ]
  },
  {
   "cell_type": "code",
   "execution_count": 29,
   "id": "domestic-batman",
   "metadata": {
    "execution": {
     "iopub.execute_input": "2021-04-04T19:31:25.506938Z",
     "iopub.status.busy": "2021-04-04T19:31:25.506036Z",
     "iopub.status.idle": "2021-04-04T19:31:25.825384Z",
     "shell.execute_reply": "2021-04-04T19:31:25.825808Z"
    },
    "id": "YlkKqLt96OdY",
    "outputId": "47864efd-b2c7-486e-fbd3-e101eab80640",
    "papermill": {
     "duration": 0.378953,
     "end_time": "2021-04-04T19:31:25.825992",
     "exception": false,
     "start_time": "2021-04-04T19:31:25.447039",
     "status": "completed"
    },
    "tags": []
   },
   "outputs": [
    {
     "data": {
      "text/plain": [
       "<sklearn.metrics._plot.precision_recall_curve.PrecisionRecallDisplay at 0x7f1e89eb0350>"
      ]
     },
     "execution_count": 29,
     "metadata": {},
     "output_type": "execute_result"
    },
    {
     "data": {
      "image/png": "[encoded data removed]",
      "text/plain": [
       "<Figure size 1152x576 with 2 Axes>"
      ]
     },
     "metadata": {
      "needs_background": "light"
     },
     "output_type": "display_data"
    }
   ],
   "source": [
    "fig, [ax_roc, ax_pr] = plt.subplots(1, 2, figsize=(16, 8))\n",
    "metrics.plot_roc_curve(clf, X_test, y_test, ax=ax_roc, name= model_name)\n",
    "metrics.plot_precision_recall_curve(clf, X_test, y_test, ax=ax_pr, name= model_name)"
   ]
  },
  {
   "cell_type": "code",
   "execution_count": 30,
   "id": "productive-limit",
   "metadata": {
    "execution": {
     "iopub.execute_input": "2021-04-04T19:31:25.947596Z",
     "iopub.status.busy": "2021-04-04T19:31:25.947001Z",
     "iopub.status.idle": "2021-04-04T19:31:26.227085Z",
     "shell.execute_reply": "2021-04-04T19:31:26.227498Z"
    },
    "id": "7iM5C4KY8k4r",
    "outputId": "036bf93d-e469-4085-8ee6-bd5eee398701",
    "papermill": {
     "duration": 0.342775,
     "end_time": "2021-04-04T19:31:26.227675",
     "exception": false,
     "start_time": "2021-04-04T19:31:25.884900",
     "status": "completed"
    },
    "tags": []
   },
   "outputs": [
    {
     "name": "stdout",
     "output_type": "stream",
     "text": [
      "Feature ranking:\n",
      "1. feature (gross profit + depreciation) / total liabilities (0.203099)\n",
      "2. feature gross profit (in 3 years) / total assets (0.132665)\n",
      "3. feature gross profit / sales (0.064013)\n",
      "4. feature equity / total assets (0.061123)\n",
      "5. feature short-term liabilities / total assets (0.058211)\n",
      "6. feature (equity - share capital) / total assets (0.050528)\n",
      "7. feature sales / fixed assets (0.046746)\n",
      "8. feature retained earnings / total assets (0.045890)\n",
      "9. feature EBIT / total assets (0.044134)\n",
      "10. feature profit on operating activities / sales (0.033739)\n"
     ]
    },
    {
     "data": {
      "image/png": "[encoded data removed]",
      "text/plain": [
       "<Figure size 432x288 with 1 Axes>"
      ]
     },
     "metadata": {
      "needs_background": "light"
     },
     "output_type": "display_data"
    }
   ],
   "source": [
    "# Visualizing Feature Importance\n",
    "forest = clf.named_steps[\"model\"]\n",
    "importances = forest.feature_importances_\n",
    "std = np.std([tree.feature_importances_ for tree in forest.estimators_],\n",
    "             axis=0)\n",
    "indices = np.argsort(importances)[::-1]\n",
    "\n",
    "# Print the feature ranking\n",
    "print(\"Feature ranking:\")\n",
    "\n",
    "for f in range(10):\n",
    "    print(\"%d. feature %s (%f)\" % (f + 1, X_train.columns[indices[f]], importances[indices[f]]))\n",
    "\n",
    "# Plot the impurity-based feature importances of the forest\n",
    "plt.figure()\n",
    "plt.title(\"Feature importances\")\n",
    "plt.bar(range(X_train.shape[1]), importances[indices],\n",
    "        color=\"r\", yerr=std[indices], align=\"center\")\n",
    "plt.xticks(range(X_train.shape[1]), indices)\n",
    "plt.xlim([-1, X_train.shape[1]])\n",
    "plt.show()"
   ]
  }
 ],
 "metadata": {
  "kernelspec": {
   "display_name": "Python 3",
   "language": "python",
   "name": "python3"
  },
  "language_info": {
   "codemirror_mode": {
    "name": "ipython",
    "version": 3
   },
   "file_extension": ".py",
   "mimetype": "text/x-python",
   "name": "python",
   "nbconvert_exporter": "python",
   "pygments_lexer": "ipython3",
   "version": "3.7.9"
  },
  "papermill": {
   "default_parameters": {},
   "duration": 3682.871654,
   "end_time": "2021-04-04T19:31:27.399015",
   "environment_variables": {},
   "exception": null,
   "input_path": "__notebook__.ipynb",
   "output_path": "__notebook__.ipynb",
   "parameters": {},
   "start_time": "2021-04-04T18:30:04.527361",
   "version": "2.3.2"
  }
 },
 "nbformat": 4,
 "nbformat_minor": 5
}
