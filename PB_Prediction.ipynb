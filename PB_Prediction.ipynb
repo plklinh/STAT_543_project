{
 "metadata": {
  "language_info": {
   "codemirror_mode": {
    "name": "ipython",
    "version": 3
   },
   "file_extension": ".py",
   "mimetype": "text/x-python",
   "name": "python",
   "nbconvert_exporter": "python",
   "pygments_lexer": "ipython3",
   "version": "3.7.4-final"
  },
  "orig_nbformat": 2,
  "kernelspec": {
   "name": "python3",
   "display_name": "Python 3.7.4 64-bit ('base': conda)",
   "metadata": {
    "interpreter": {
     "hash": "7c05304a6cc44c15f6e34d90b133ecd9e1f5d64571cb7dc5e4d075e9eba84ceb"
    }
   }
  }
 },
 "nbformat": 4,
 "nbformat_minor": 2,
 "cells": [
  {
   "cell_type": "code",
   "execution_count": 1,
   "metadata": {},
   "outputs": [],
   "source": [
    "import numpy as np\n",
    "import pandas as pd\n",
    "import seaborn as sns\n",
    "import matplotlib.pyplot as plt\n",
    "\n",
    "from sklearn import metrics\n",
    "from sklearn.model_selection import train_test_split\n",
    "from sklearn.model_selection import cross_val_score\n",
    "\n",
    "# Importing Feature Selection Modesl\n",
    "from sklearn.feature_selection import SelectKBest\n",
    "from sklearn.feature_selection import RFE\n",
    "from sklearn.model_selection import StratifiedKFold\n",
    "from sklearn.feature_selection import RFECV\n",
    "from sklearn.feature_selection import chi2\n",
    "from sklearn.ensemble import ExtraTreesClassifier\n",
    "from sklearn.feature_selection import SelectFromModel\n",
    "\n",
    "# Importing Learning Models\n",
    "from sklearn.linear_model import LogisticRegression\n",
    "from sklearn.neighbors import KNeighborsClassifier\n",
    "from sklearn.tree import DecisionTreeClassifier\n",
    "from sklearn.naive_bayes import GaussianNB\n",
    "from sklearn.discriminant_analysis import LinearDiscriminantAnalysis"
   ]
  },
  {
   "cell_type": "code",
   "execution_count": 43,
   "metadata": {},
   "outputs": [
    {
     "output_type": "execute_result",
     "data": {
      "text/plain": [
       "(18918, 65)"
      ]
     },
     "metadata": {},
     "execution_count": 43
    }
   ],
   "source": [
    "polish_3_year = pd.read_csv(\"3year.csv\")\n",
    "polish_3_year.shape"
   ]
  },
  {
   "cell_type": "code",
   "execution_count": 36,
   "metadata": {},
   "outputs": [
    {
     "output_type": "execute_result",
     "data": {
      "text/plain": [
       "0"
      ]
     },
     "metadata": {},
     "execution_count": 36
    }
   ],
   "source": [
    "sum(polish_3_year.isnull().sum())"
   ]
  },
  {
   "cell_type": "code",
   "execution_count": 30,
   "metadata": {},
   "outputs": [
    {
     "output_type": "execute_result",
     "data": {
      "text/plain": [
       "              Attr1         Attr2         Attr3         Attr4         Attr5\n",
       "count  18918.000000  18918.000000  18918.000000  18918.000000  1.891800e+04\n",
       "mean       0.002468      0.857092     -0.144444      6.964396 -7.941194e+02\n",
       "std        0.654671      7.853444      8.418831    390.442807  8.825053e+04\n",
       "min      -17.692000      0.000000   -479.730000      0.000000 -1.190300e+07\n",
       "25%       -0.042743      0.390122     -0.082573      0.892630 -9.074700e+01\n",
       "50%        0.017171      0.637245      0.093448      1.244445 -3.523000e+01\n",
       "75%        0.087773      0.831361      0.295658      2.155984  2.076275e+01\n",
       "max       52.652000    480.730000     17.708000  53433.000000  6.854400e+05"
      ],
      "text/html": "<div>\n<style scoped>\n    .dataframe tbody tr th:only-of-type {\n        vertical-align: middle;\n    }\n\n    .dataframe tbody tr th {\n        vertical-align: top;\n    }\n\n    .dataframe thead th {\n        text-align: right;\n    }\n</style>\n<table border=\"1\" class=\"dataframe\">\n  <thead>\n    <tr style=\"text-align: right;\">\n      <th></th>\n      <th>Attr1</th>\n      <th>Attr2</th>\n      <th>Attr3</th>\n      <th>Attr4</th>\n      <th>Attr5</th>\n    </tr>\n  </thead>\n  <tbody>\n    <tr>\n      <td>count</td>\n      <td>18918.000000</td>\n      <td>18918.000000</td>\n      <td>18918.000000</td>\n      <td>18918.000000</td>\n      <td>1.891800e+04</td>\n    </tr>\n    <tr>\n      <td>mean</td>\n      <td>0.002468</td>\n      <td>0.857092</td>\n      <td>-0.144444</td>\n      <td>6.964396</td>\n      <td>-7.941194e+02</td>\n    </tr>\n    <tr>\n      <td>std</td>\n      <td>0.654671</td>\n      <td>7.853444</td>\n      <td>8.418831</td>\n      <td>390.442807</td>\n      <td>8.825053e+04</td>\n    </tr>\n    <tr>\n      <td>min</td>\n      <td>-17.692000</td>\n      <td>0.000000</td>\n      <td>-479.730000</td>\n      <td>0.000000</td>\n      <td>-1.190300e+07</td>\n    </tr>\n    <tr>\n      <td>25%</td>\n      <td>-0.042743</td>\n      <td>0.390122</td>\n      <td>-0.082573</td>\n      <td>0.892630</td>\n      <td>-9.074700e+01</td>\n    </tr>\n    <tr>\n      <td>50%</td>\n      <td>0.017171</td>\n      <td>0.637245</td>\n      <td>0.093448</td>\n      <td>1.244445</td>\n      <td>-3.523000e+01</td>\n    </tr>\n    <tr>\n      <td>75%</td>\n      <td>0.087773</td>\n      <td>0.831361</td>\n      <td>0.295658</td>\n      <td>2.155984</td>\n      <td>2.076275e+01</td>\n    </tr>\n    <tr>\n      <td>max</td>\n      <td>52.652000</td>\n      <td>480.730000</td>\n      <td>17.708000</td>\n      <td>53433.000000</td>\n      <td>6.854400e+05</td>\n    </tr>\n  </tbody>\n</table>\n</div>"
     },
     "metadata": {},
     "execution_count": 30
    }
   ],
   "source": [
    "cols = polish_3_year.columns\n",
    "polish_3_year[cols[0:5]].describe()"
   ]
  },
  {
   "cell_type": "code",
   "execution_count": 38,
   "metadata": {},
   "outputs": [
    {
     "output_type": "execute_result",
     "data": {
      "text/plain": [
       "(948, 65)"
      ]
     },
     "metadata": {},
     "execution_count": 38
    }
   ],
   "source": [
    "Q1 = polish_3_year.quantile(0.25)\n",
    "Q3 = polish_3_year.quantile(0.75)\n",
    "IQR = Q3 - Q1\n",
    "\n",
    "polish_IQR = polish_3_year[~((polish_3_year < (Q1 - 1.5 * IQR)) |(polish_3_year > (Q3 + 1.5 * IQR))).any(axis=1)]\n",
    "polish_IQR.shape"
   ]
  },
  {
   "cell_type": "code",
   "execution_count": 42,
   "metadata": {},
   "outputs": [
    {
     "output_type": "execute_result",
     "data": {
      "text/plain": [
       "(17446, 65)"
      ]
     },
     "metadata": {},
     "execution_count": 42
    }
   ],
   "source": [
    "from scipy import stats\n",
    "import numpy as np\n",
    "z = np.abs(stats.zscore(polish_3_year))\n",
    "\n",
    "polish_zo = polish_3_year[(z < 3).all(axis=1)]\n",
    "polish_zo.shape"
   ]
  },
  {
   "cell_type": "code",
   "execution_count": 45,
   "metadata": {},
   "outputs": [
    {
     "output_type": "execute_result",
     "data": {
      "text/plain": [
       "(5144, 65)"
      ]
     },
     "metadata": {},
     "execution_count": 45
    }
   ],
   "source": [
    "polish_zo = polish_3_year[(polish_3_year < 1000).all(axis=1)]\n",
    "polish_zo.shape"
   ]
  },
  {
   "cell_type": "code",
   "execution_count": null,
   "metadata": {},
   "outputs": [],
   "source": [
    "polish_3_year['Bankrupt?'] = polish_3_year['class'].astype('category')"
   ]
  }
 ]
}